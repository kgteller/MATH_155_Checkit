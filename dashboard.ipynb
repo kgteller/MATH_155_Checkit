{
 "cells": [
  {
   "cell_type": "markdown",
   "metadata": {
    "editable": false
   },
   "source": [
    "# CheckIt Dashboard\n",
    "\n",
    "**▶ Run** the code cell below to start the Dashboard."
   ]
  },
  {
   "cell_type": "code",
   "execution_count": null,
   "metadata": {
    "editable": false
   },
   "outputs": [
    {
     "data": {
      "text/markdown": [
       "## Salisbury University - MATH155"
      ],
      "text/plain": [
       "<IPython.core.display.Markdown object>"
      ]
     },
     "metadata": {},
     "output_type": "display_data"
    },
    {
     "data": {
      "text/html": [
       "<style>.stx-outtro{background-color:#ddd;}</style>"
      ],
      "text/plain": [
       "<IPython.core.display.HTML object>"
      ]
     },
     "metadata": {},
     "output_type": "display_data"
    },
    {
     "data": {
      "application/vnd.jupyter.widget-view+json": {
       "model_id": "3f498df563f14a95979c798d397dffd8",
       "version_major": 2,
       "version_minor": 0
      },
      "text/plain": [
       "Dropdown(description='Menu:', options=(('', ''), ('Author/edit outcomes', 'outcome'), ('Manage bank', 'bank'))…"
      ]
     },
     "metadata": {},
     "output_type": "display_data"
    },
    {
     "data": {
      "application/vnd.jupyter.widget-view+json": {
       "model_id": "a75ff60be6b14793ae849e4c5919dc48",
       "version_major": 2,
       "version_minor": 0
      },
      "text/plain": [
       "Output()"
      ]
     },
     "metadata": {},
     "output_type": "display_data"
    },
    {
     "data": {
      "application/vnd.jupyter.widget-view+json": {
       "model_id": "2bf019ca9fc2418a8e97f95c3041ef06",
       "version_major": 2,
       "version_minor": 0
      },
      "text/plain": [
       "modifiedOutput()"
      ]
     },
     "metadata": {},
     "output_type": "display_data"
    },
    {
     "data": {
      "application/vnd.jupyter.widget-view+json": {
       "model_id": "6b563438ba01473b975af5cbd50af189",
       "version_major": 2,
       "version_minor": 0
      },
      "text/plain": [
       "modifiedOutput()"
      ]
     },
     "metadata": {},
     "output_type": "display_data"
    },
    {
     "data": {
      "application/vnd.jupyter.widget-view+json": {
       "model_id": "d31e607176244019b096d89dc295b705",
       "version_major": 2,
       "version_minor": 0
      },
      "text/plain": [
       "modifiedOutput()"
      ]
     },
     "metadata": {},
     "output_type": "display_data"
    },
    {
     "data": {
      "text/markdown": [
       "---"
      ],
      "text/plain": [
       "<IPython.core.display.Markdown object>"
      ]
     },
     "metadata": {},
     "output_type": "display_data"
    },
    {
     "data": {
      "text/markdown": [
       "`CheckIt Dashboard v0.2.6`"
      ],
      "text/plain": [
       "<IPython.core.display.Markdown object>"
      ]
     },
     "metadata": {},
     "output_type": "display_data"
    },
    {
     "ename": "CalledProcessError",
     "evalue": "Command '['sage', '/var/folders/g9/mx1ss3_94w3cylvbn32x2dqxx6lm77/T/tmpaqoef7dw/wrapper.sage', '/Users/kgteller/Documents/GitHub/MATH_155_Checkit/outcomes/SLO/SLO5/generator.sage', '/Users/kgteller/Documents/GitHub/MATH_155_Checkit/assets/SLO5/generated/seeds.json', 'build']' returned non-zero exit status 1.",
     "output_type": "error",
     "traceback": [
      "\u001b[0;31m---------------------------------------------------------------------------\u001b[0m",
      "\u001b[0;31mCalledProcessError\u001b[0m                        Traceback (most recent call last)",
      "File \u001b[0;32m/opt/anaconda3/lib/python3.12/site-packages/checkit/dashboard.py:96\u001b[0m, in \u001b[0;36moutcome_submenu.<locals>.build\u001b[0;34m(*args)\u001b[0m\n\u001b[1;32m     94\u001b[0m     display(Markdown(\u001b[38;5;124m\"\u001b[39m\u001b[38;5;124mGenerating 1,000 seeds...\u001b[39m\u001b[38;5;124m\"\u001b[39m))\n\u001b[1;32m     95\u001b[0m \u001b[38;5;28;01mwith\u001b[39;00m output:\n\u001b[0;32m---> 96\u001b[0m     o\u001b[38;5;241m.\u001b[39mgenerate_exercises(regenerate\u001b[38;5;241m=\u001b[39m\u001b[38;5;28;01mTrue\u001b[39;00m)\n\u001b[1;32m     97\u001b[0m reset(only_generated\u001b[38;5;241m=\u001b[39m\u001b[38;5;28;01mTrue\u001b[39;00m)\n\u001b[1;32m     98\u001b[0m \u001b[38;5;28;01mwith\u001b[39;00m output:\n",
      "File \u001b[0;32m/opt/anaconda3/lib/python3.12/site-packages/checkit/outcome.py:106\u001b[0m, in \u001b[0;36mOutcome.generate_exercises\u001b[0;34m(self, regenerate, images)\u001b[0m\n\u001b[1;32m    104\u001b[0m     \u001b[38;5;28;01mexcept\u001b[39;00m \u001b[38;5;167;01mRuntimeError\u001b[39;00m:\n\u001b[1;32m    105\u001b[0m         \u001b[38;5;28;01mpass\u001b[39;00m \u001b[38;5;66;03m# generation is necessary\u001b[39;00m\n\u001b[0;32m--> 106\u001b[0m sage(\u001b[38;5;28mself\u001b[39m,\u001b[38;5;28mself\u001b[39m\u001b[38;5;241m.\u001b[39mseeds_json_path(),preview\u001b[38;5;241m=\u001b[39m\u001b[38;5;28;01mFalse\u001b[39;00m,images\u001b[38;5;241m=\u001b[39mimages)\n\u001b[1;32m    107\u001b[0m \u001b[38;5;28mself\u001b[39m\u001b[38;5;241m.\u001b[39mload_exercises(reload\u001b[38;5;241m=\u001b[39m\u001b[38;5;28;01mTrue\u001b[39;00m)\n",
      "File \u001b[0;32m/opt/anaconda3/lib/python3.12/site-packages/checkit/wrapper/__init__.py:28\u001b[0m, in \u001b[0;36msage\u001b[0;34m(outcome, output_path, preview, images)\u001b[0m\n\u001b[1;32m     26\u001b[0m \u001b[38;5;28;01mif\u001b[39;00m images:\n\u001b[1;32m     27\u001b[0m     cmds \u001b[38;5;241m+\u001b[39m\u001b[38;5;241m=\u001b[39m [\u001b[38;5;124m\"\u001b[39m\u001b[38;5;124mimages\u001b[39m\u001b[38;5;124m\"\u001b[39m]\n\u001b[0;32m---> 28\u001b[0m subprocess\u001b[38;5;241m.\u001b[39mrun(cmds,check\u001b[38;5;241m=\u001b[39m\u001b[38;5;28;01mTrue\u001b[39;00m)\n",
      "File \u001b[0;32m/opt/anaconda3/lib/python3.12/subprocess.py:571\u001b[0m, in \u001b[0;36mrun\u001b[0;34m(input, capture_output, timeout, check, *popenargs, **kwargs)\u001b[0m\n\u001b[1;32m    569\u001b[0m     retcode \u001b[38;5;241m=\u001b[39m process\u001b[38;5;241m.\u001b[39mpoll()\n\u001b[1;32m    570\u001b[0m     \u001b[38;5;28;01mif\u001b[39;00m check \u001b[38;5;129;01mand\u001b[39;00m retcode:\n\u001b[0;32m--> 571\u001b[0m         \u001b[38;5;28;01mraise\u001b[39;00m CalledProcessError(retcode, process\u001b[38;5;241m.\u001b[39margs,\n\u001b[1;32m    572\u001b[0m                                  output\u001b[38;5;241m=\u001b[39mstdout, stderr\u001b[38;5;241m=\u001b[39mstderr)\n\u001b[1;32m    573\u001b[0m \u001b[38;5;28;01mreturn\u001b[39;00m CompletedProcess(process\u001b[38;5;241m.\u001b[39margs, retcode, stdout, stderr)\n",
      "\u001b[0;31mCalledProcessError\u001b[0m: Command '['sage', '/var/folders/g9/mx1ss3_94w3cylvbn32x2dqxx6lm77/T/tmpaqoef7dw/wrapper.sage', '/Users/kgteller/Documents/GitHub/MATH_155_Checkit/outcomes/SLO/SLO5/generator.sage', '/Users/kgteller/Documents/GitHub/MATH_155_Checkit/assets/SLO5/generated/seeds.json', 'build']' returned non-zero exit status 1."
     ]
    },
    {
     "ename": "CalledProcessError",
     "evalue": "Command '['sage', '/var/folders/g9/mx1ss3_94w3cylvbn32x2dqxx6lm77/T/tmpew8q8s3d/wrapper.sage', '/Users/kgteller/Documents/GitHub/MATH_155_Checkit/outcomes/SLO/SLO5/generator.sage', '/Users/kgteller/Documents/GitHub/MATH_155_Checkit/assets/SLO5/generated/seeds.json', 'build']' returned non-zero exit status 1.",
     "output_type": "error",
     "traceback": [
      "\u001b[0;31m---------------------------------------------------------------------------\u001b[0m",
      "\u001b[0;31mCalledProcessError\u001b[0m                        Traceback (most recent call last)",
      "File \u001b[0;32m/opt/anaconda3/lib/python3.12/site-packages/checkit/dashboard.py:96\u001b[0m, in \u001b[0;36moutcome_submenu.<locals>.build\u001b[0;34m(*args)\u001b[0m\n\u001b[1;32m     94\u001b[0m     display(Markdown(\u001b[38;5;124m\"\u001b[39m\u001b[38;5;124mGenerating 1,000 seeds...\u001b[39m\u001b[38;5;124m\"\u001b[39m))\n\u001b[1;32m     95\u001b[0m \u001b[38;5;28;01mwith\u001b[39;00m output:\n\u001b[0;32m---> 96\u001b[0m     o\u001b[38;5;241m.\u001b[39mgenerate_exercises(regenerate\u001b[38;5;241m=\u001b[39m\u001b[38;5;28;01mTrue\u001b[39;00m)\n\u001b[1;32m     97\u001b[0m reset(only_generated\u001b[38;5;241m=\u001b[39m\u001b[38;5;28;01mTrue\u001b[39;00m)\n\u001b[1;32m     98\u001b[0m \u001b[38;5;28;01mwith\u001b[39;00m output:\n",
      "File \u001b[0;32m/opt/anaconda3/lib/python3.12/site-packages/checkit/outcome.py:106\u001b[0m, in \u001b[0;36mOutcome.generate_exercises\u001b[0;34m(self, regenerate, images)\u001b[0m\n\u001b[1;32m    104\u001b[0m     \u001b[38;5;28;01mexcept\u001b[39;00m \u001b[38;5;167;01mRuntimeError\u001b[39;00m:\n\u001b[1;32m    105\u001b[0m         \u001b[38;5;28;01mpass\u001b[39;00m \u001b[38;5;66;03m# generation is necessary\u001b[39;00m\n\u001b[0;32m--> 106\u001b[0m sage(\u001b[38;5;28mself\u001b[39m,\u001b[38;5;28mself\u001b[39m\u001b[38;5;241m.\u001b[39mseeds_json_path(),preview\u001b[38;5;241m=\u001b[39m\u001b[38;5;28;01mFalse\u001b[39;00m,images\u001b[38;5;241m=\u001b[39mimages)\n\u001b[1;32m    107\u001b[0m \u001b[38;5;28mself\u001b[39m\u001b[38;5;241m.\u001b[39mload_exercises(reload\u001b[38;5;241m=\u001b[39m\u001b[38;5;28;01mTrue\u001b[39;00m)\n",
      "File \u001b[0;32m/opt/anaconda3/lib/python3.12/site-packages/checkit/wrapper/__init__.py:28\u001b[0m, in \u001b[0;36msage\u001b[0;34m(outcome, output_path, preview, images)\u001b[0m\n\u001b[1;32m     26\u001b[0m \u001b[38;5;28;01mif\u001b[39;00m images:\n\u001b[1;32m     27\u001b[0m     cmds \u001b[38;5;241m+\u001b[39m\u001b[38;5;241m=\u001b[39m [\u001b[38;5;124m\"\u001b[39m\u001b[38;5;124mimages\u001b[39m\u001b[38;5;124m\"\u001b[39m]\n\u001b[0;32m---> 28\u001b[0m subprocess\u001b[38;5;241m.\u001b[39mrun(cmds,check\u001b[38;5;241m=\u001b[39m\u001b[38;5;28;01mTrue\u001b[39;00m)\n",
      "File \u001b[0;32m/opt/anaconda3/lib/python3.12/subprocess.py:571\u001b[0m, in \u001b[0;36mrun\u001b[0;34m(input, capture_output, timeout, check, *popenargs, **kwargs)\u001b[0m\n\u001b[1;32m    569\u001b[0m     retcode \u001b[38;5;241m=\u001b[39m process\u001b[38;5;241m.\u001b[39mpoll()\n\u001b[1;32m    570\u001b[0m     \u001b[38;5;28;01mif\u001b[39;00m check \u001b[38;5;129;01mand\u001b[39;00m retcode:\n\u001b[0;32m--> 571\u001b[0m         \u001b[38;5;28;01mraise\u001b[39;00m CalledProcessError(retcode, process\u001b[38;5;241m.\u001b[39margs,\n\u001b[1;32m    572\u001b[0m                                  output\u001b[38;5;241m=\u001b[39mstdout, stderr\u001b[38;5;241m=\u001b[39mstderr)\n\u001b[1;32m    573\u001b[0m \u001b[38;5;28;01mreturn\u001b[39;00m CompletedProcess(process\u001b[38;5;241m.\u001b[39margs, retcode, stdout, stderr)\n",
      "\u001b[0;31mCalledProcessError\u001b[0m: Command '['sage', '/var/folders/g9/mx1ss3_94w3cylvbn32x2dqxx6lm77/T/tmpew8q8s3d/wrapper.sage', '/Users/kgteller/Documents/GitHub/MATH_155_Checkit/outcomes/SLO/SLO5/generator.sage', '/Users/kgteller/Documents/GitHub/MATH_155_Checkit/assets/SLO5/generated/seeds.json', 'build']' returned non-zero exit status 1."
     ]
    },
    {
     "ename": "CalledProcessError",
     "evalue": "Command '['sage', '/var/folders/g9/mx1ss3_94w3cylvbn32x2dqxx6lm77/T/tmp2qtil7bj/wrapper.sage', '/Users/kgteller/Documents/GitHub/MATH_155_Checkit/outcomes/SLO/SLO5/generator.sage', '/Users/kgteller/Documents/GitHub/MATH_155_Checkit/assets/SLO5/generated/seeds.json', 'build']' returned non-zero exit status 1.",
     "output_type": "error",
     "traceback": [
      "\u001b[0;31m---------------------------------------------------------------------------\u001b[0m",
      "\u001b[0;31mCalledProcessError\u001b[0m                        Traceback (most recent call last)",
      "File \u001b[0;32m/opt/anaconda3/lib/python3.12/site-packages/checkit/dashboard.py:96\u001b[0m, in \u001b[0;36moutcome_submenu.<locals>.build\u001b[0;34m(*args)\u001b[0m\n\u001b[1;32m     94\u001b[0m     display(Markdown(\u001b[38;5;124m\"\u001b[39m\u001b[38;5;124mGenerating 1,000 seeds...\u001b[39m\u001b[38;5;124m\"\u001b[39m))\n\u001b[1;32m     95\u001b[0m \u001b[38;5;28;01mwith\u001b[39;00m output:\n\u001b[0;32m---> 96\u001b[0m     o\u001b[38;5;241m.\u001b[39mgenerate_exercises(regenerate\u001b[38;5;241m=\u001b[39m\u001b[38;5;28;01mTrue\u001b[39;00m)\n\u001b[1;32m     97\u001b[0m reset(only_generated\u001b[38;5;241m=\u001b[39m\u001b[38;5;28;01mTrue\u001b[39;00m)\n\u001b[1;32m     98\u001b[0m \u001b[38;5;28;01mwith\u001b[39;00m output:\n",
      "File \u001b[0;32m/opt/anaconda3/lib/python3.12/site-packages/checkit/outcome.py:106\u001b[0m, in \u001b[0;36mOutcome.generate_exercises\u001b[0;34m(self, regenerate, images)\u001b[0m\n\u001b[1;32m    104\u001b[0m     \u001b[38;5;28;01mexcept\u001b[39;00m \u001b[38;5;167;01mRuntimeError\u001b[39;00m:\n\u001b[1;32m    105\u001b[0m         \u001b[38;5;28;01mpass\u001b[39;00m \u001b[38;5;66;03m# generation is necessary\u001b[39;00m\n\u001b[0;32m--> 106\u001b[0m sage(\u001b[38;5;28mself\u001b[39m,\u001b[38;5;28mself\u001b[39m\u001b[38;5;241m.\u001b[39mseeds_json_path(),preview\u001b[38;5;241m=\u001b[39m\u001b[38;5;28;01mFalse\u001b[39;00m,images\u001b[38;5;241m=\u001b[39mimages)\n\u001b[1;32m    107\u001b[0m \u001b[38;5;28mself\u001b[39m\u001b[38;5;241m.\u001b[39mload_exercises(reload\u001b[38;5;241m=\u001b[39m\u001b[38;5;28;01mTrue\u001b[39;00m)\n",
      "File \u001b[0;32m/opt/anaconda3/lib/python3.12/site-packages/checkit/wrapper/__init__.py:28\u001b[0m, in \u001b[0;36msage\u001b[0;34m(outcome, output_path, preview, images)\u001b[0m\n\u001b[1;32m     26\u001b[0m \u001b[38;5;28;01mif\u001b[39;00m images:\n\u001b[1;32m     27\u001b[0m     cmds \u001b[38;5;241m+\u001b[39m\u001b[38;5;241m=\u001b[39m [\u001b[38;5;124m\"\u001b[39m\u001b[38;5;124mimages\u001b[39m\u001b[38;5;124m\"\u001b[39m]\n\u001b[0;32m---> 28\u001b[0m subprocess\u001b[38;5;241m.\u001b[39mrun(cmds,check\u001b[38;5;241m=\u001b[39m\u001b[38;5;28;01mTrue\u001b[39;00m)\n",
      "File \u001b[0;32m/opt/anaconda3/lib/python3.12/subprocess.py:571\u001b[0m, in \u001b[0;36mrun\u001b[0;34m(input, capture_output, timeout, check, *popenargs, **kwargs)\u001b[0m\n\u001b[1;32m    569\u001b[0m     retcode \u001b[38;5;241m=\u001b[39m process\u001b[38;5;241m.\u001b[39mpoll()\n\u001b[1;32m    570\u001b[0m     \u001b[38;5;28;01mif\u001b[39;00m check \u001b[38;5;129;01mand\u001b[39;00m retcode:\n\u001b[0;32m--> 571\u001b[0m         \u001b[38;5;28;01mraise\u001b[39;00m CalledProcessError(retcode, process\u001b[38;5;241m.\u001b[39margs,\n\u001b[1;32m    572\u001b[0m                                  output\u001b[38;5;241m=\u001b[39mstdout, stderr\u001b[38;5;241m=\u001b[39mstderr)\n\u001b[1;32m    573\u001b[0m \u001b[38;5;28;01mreturn\u001b[39;00m CompletedProcess(process\u001b[38;5;241m.\u001b[39margs, retcode, stdout, stderr)\n",
      "\u001b[0;31mCalledProcessError\u001b[0m: Command '['sage', '/var/folders/g9/mx1ss3_94w3cylvbn32x2dqxx6lm77/T/tmp2qtil7bj/wrapper.sage', '/Users/kgteller/Documents/GitHub/MATH_155_Checkit/outcomes/SLO/SLO5/generator.sage', '/Users/kgteller/Documents/GitHub/MATH_155_Checkit/assets/SLO5/generated/seeds.json', 'build']' returned non-zero exit status 1."
     ]
    },
    {
     "ename": "CalledProcessError",
     "evalue": "Command '['sage', '/var/folders/g9/mx1ss3_94w3cylvbn32x2dqxx6lm77/T/tmp86vi8kjs/wrapper.sage', '/Users/kgteller/Documents/GitHub/MATH_155_Checkit/outcomes/SLO/SLO5/generator.sage', '/Users/kgteller/Documents/GitHub/MATH_155_Checkit/assets/SLO5/generated/seeds.json', 'build']' returned non-zero exit status 1.",
     "output_type": "error",
     "traceback": [
      "\u001b[0;31m---------------------------------------------------------------------------\u001b[0m",
      "\u001b[0;31mCalledProcessError\u001b[0m                        Traceback (most recent call last)",
      "File \u001b[0;32m/opt/anaconda3/lib/python3.12/site-packages/checkit/dashboard.py:96\u001b[0m, in \u001b[0;36moutcome_submenu.<locals>.build\u001b[0;34m(*args)\u001b[0m\n\u001b[1;32m     94\u001b[0m     display(Markdown(\u001b[38;5;124m\"\u001b[39m\u001b[38;5;124mGenerating 1,000 seeds...\u001b[39m\u001b[38;5;124m\"\u001b[39m))\n\u001b[1;32m     95\u001b[0m \u001b[38;5;28;01mwith\u001b[39;00m output:\n\u001b[0;32m---> 96\u001b[0m     o\u001b[38;5;241m.\u001b[39mgenerate_exercises(regenerate\u001b[38;5;241m=\u001b[39m\u001b[38;5;28;01mTrue\u001b[39;00m)\n\u001b[1;32m     97\u001b[0m reset(only_generated\u001b[38;5;241m=\u001b[39m\u001b[38;5;28;01mTrue\u001b[39;00m)\n\u001b[1;32m     98\u001b[0m \u001b[38;5;28;01mwith\u001b[39;00m output:\n",
      "File \u001b[0;32m/opt/anaconda3/lib/python3.12/site-packages/checkit/outcome.py:106\u001b[0m, in \u001b[0;36mOutcome.generate_exercises\u001b[0;34m(self, regenerate, images)\u001b[0m\n\u001b[1;32m    104\u001b[0m     \u001b[38;5;28;01mexcept\u001b[39;00m \u001b[38;5;167;01mRuntimeError\u001b[39;00m:\n\u001b[1;32m    105\u001b[0m         \u001b[38;5;28;01mpass\u001b[39;00m \u001b[38;5;66;03m# generation is necessary\u001b[39;00m\n\u001b[0;32m--> 106\u001b[0m sage(\u001b[38;5;28mself\u001b[39m,\u001b[38;5;28mself\u001b[39m\u001b[38;5;241m.\u001b[39mseeds_json_path(),preview\u001b[38;5;241m=\u001b[39m\u001b[38;5;28;01mFalse\u001b[39;00m,images\u001b[38;5;241m=\u001b[39mimages)\n\u001b[1;32m    107\u001b[0m \u001b[38;5;28mself\u001b[39m\u001b[38;5;241m.\u001b[39mload_exercises(reload\u001b[38;5;241m=\u001b[39m\u001b[38;5;28;01mTrue\u001b[39;00m)\n",
      "File \u001b[0;32m/opt/anaconda3/lib/python3.12/site-packages/checkit/wrapper/__init__.py:28\u001b[0m, in \u001b[0;36msage\u001b[0;34m(outcome, output_path, preview, images)\u001b[0m\n\u001b[1;32m     26\u001b[0m \u001b[38;5;28;01mif\u001b[39;00m images:\n\u001b[1;32m     27\u001b[0m     cmds \u001b[38;5;241m+\u001b[39m\u001b[38;5;241m=\u001b[39m [\u001b[38;5;124m\"\u001b[39m\u001b[38;5;124mimages\u001b[39m\u001b[38;5;124m\"\u001b[39m]\n\u001b[0;32m---> 28\u001b[0m subprocess\u001b[38;5;241m.\u001b[39mrun(cmds,check\u001b[38;5;241m=\u001b[39m\u001b[38;5;28;01mTrue\u001b[39;00m)\n",
      "File \u001b[0;32m/opt/anaconda3/lib/python3.12/subprocess.py:571\u001b[0m, in \u001b[0;36mrun\u001b[0;34m(input, capture_output, timeout, check, *popenargs, **kwargs)\u001b[0m\n\u001b[1;32m    569\u001b[0m     retcode \u001b[38;5;241m=\u001b[39m process\u001b[38;5;241m.\u001b[39mpoll()\n\u001b[1;32m    570\u001b[0m     \u001b[38;5;28;01mif\u001b[39;00m check \u001b[38;5;129;01mand\u001b[39;00m retcode:\n\u001b[0;32m--> 571\u001b[0m         \u001b[38;5;28;01mraise\u001b[39;00m CalledProcessError(retcode, process\u001b[38;5;241m.\u001b[39margs,\n\u001b[1;32m    572\u001b[0m                                  output\u001b[38;5;241m=\u001b[39mstdout, stderr\u001b[38;5;241m=\u001b[39mstderr)\n\u001b[1;32m    573\u001b[0m \u001b[38;5;28;01mreturn\u001b[39;00m CompletedProcess(process\u001b[38;5;241m.\u001b[39margs, retcode, stdout, stderr)\n",
      "\u001b[0;31mCalledProcessError\u001b[0m: Command '['sage', '/var/folders/g9/mx1ss3_94w3cylvbn32x2dqxx6lm77/T/tmp86vi8kjs/wrapper.sage', '/Users/kgteller/Documents/GitHub/MATH_155_Checkit/outcomes/SLO/SLO5/generator.sage', '/Users/kgteller/Documents/GitHub/MATH_155_Checkit/assets/SLO5/generated/seeds.json', 'build']' returned non-zero exit status 1."
     ]
    },
    {
     "ename": "CalledProcessError",
     "evalue": "Command '['sage', '/var/folders/g9/mx1ss3_94w3cylvbn32x2dqxx6lm77/T/tmp04qmmisn/wrapper.sage', '/Users/kgteller/Documents/GitHub/MATH_155_Checkit/outcomes/SLO/SLO5/generator.sage', '/Users/kgteller/Documents/GitHub/MATH_155_Checkit/assets/SLO5/generated/seeds.json', 'build']' returned non-zero exit status 1.",
     "output_type": "error",
     "traceback": [
      "\u001b[0;31m---------------------------------------------------------------------------\u001b[0m",
      "\u001b[0;31mCalledProcessError\u001b[0m                        Traceback (most recent call last)",
      "File \u001b[0;32m/opt/anaconda3/lib/python3.12/site-packages/checkit/dashboard.py:96\u001b[0m, in \u001b[0;36moutcome_submenu.<locals>.build\u001b[0;34m(*args)\u001b[0m\n\u001b[1;32m     94\u001b[0m     display(Markdown(\u001b[38;5;124m\"\u001b[39m\u001b[38;5;124mGenerating 1,000 seeds...\u001b[39m\u001b[38;5;124m\"\u001b[39m))\n\u001b[1;32m     95\u001b[0m \u001b[38;5;28;01mwith\u001b[39;00m output:\n\u001b[0;32m---> 96\u001b[0m     o\u001b[38;5;241m.\u001b[39mgenerate_exercises(regenerate\u001b[38;5;241m=\u001b[39m\u001b[38;5;28;01mTrue\u001b[39;00m)\n\u001b[1;32m     97\u001b[0m reset(only_generated\u001b[38;5;241m=\u001b[39m\u001b[38;5;28;01mTrue\u001b[39;00m)\n\u001b[1;32m     98\u001b[0m \u001b[38;5;28;01mwith\u001b[39;00m output:\n",
      "File \u001b[0;32m/opt/anaconda3/lib/python3.12/site-packages/checkit/outcome.py:106\u001b[0m, in \u001b[0;36mOutcome.generate_exercises\u001b[0;34m(self, regenerate, images)\u001b[0m\n\u001b[1;32m    104\u001b[0m     \u001b[38;5;28;01mexcept\u001b[39;00m \u001b[38;5;167;01mRuntimeError\u001b[39;00m:\n\u001b[1;32m    105\u001b[0m         \u001b[38;5;28;01mpass\u001b[39;00m \u001b[38;5;66;03m# generation is necessary\u001b[39;00m\n\u001b[0;32m--> 106\u001b[0m sage(\u001b[38;5;28mself\u001b[39m,\u001b[38;5;28mself\u001b[39m\u001b[38;5;241m.\u001b[39mseeds_json_path(),preview\u001b[38;5;241m=\u001b[39m\u001b[38;5;28;01mFalse\u001b[39;00m,images\u001b[38;5;241m=\u001b[39mimages)\n\u001b[1;32m    107\u001b[0m \u001b[38;5;28mself\u001b[39m\u001b[38;5;241m.\u001b[39mload_exercises(reload\u001b[38;5;241m=\u001b[39m\u001b[38;5;28;01mTrue\u001b[39;00m)\n",
      "File \u001b[0;32m/opt/anaconda3/lib/python3.12/site-packages/checkit/wrapper/__init__.py:28\u001b[0m, in \u001b[0;36msage\u001b[0;34m(outcome, output_path, preview, images)\u001b[0m\n\u001b[1;32m     26\u001b[0m \u001b[38;5;28;01mif\u001b[39;00m images:\n\u001b[1;32m     27\u001b[0m     cmds \u001b[38;5;241m+\u001b[39m\u001b[38;5;241m=\u001b[39m [\u001b[38;5;124m\"\u001b[39m\u001b[38;5;124mimages\u001b[39m\u001b[38;5;124m\"\u001b[39m]\n\u001b[0;32m---> 28\u001b[0m subprocess\u001b[38;5;241m.\u001b[39mrun(cmds,check\u001b[38;5;241m=\u001b[39m\u001b[38;5;28;01mTrue\u001b[39;00m)\n",
      "File \u001b[0;32m/opt/anaconda3/lib/python3.12/subprocess.py:571\u001b[0m, in \u001b[0;36mrun\u001b[0;34m(input, capture_output, timeout, check, *popenargs, **kwargs)\u001b[0m\n\u001b[1;32m    569\u001b[0m     retcode \u001b[38;5;241m=\u001b[39m process\u001b[38;5;241m.\u001b[39mpoll()\n\u001b[1;32m    570\u001b[0m     \u001b[38;5;28;01mif\u001b[39;00m check \u001b[38;5;129;01mand\u001b[39;00m retcode:\n\u001b[0;32m--> 571\u001b[0m         \u001b[38;5;28;01mraise\u001b[39;00m CalledProcessError(retcode, process\u001b[38;5;241m.\u001b[39margs,\n\u001b[1;32m    572\u001b[0m                                  output\u001b[38;5;241m=\u001b[39mstdout, stderr\u001b[38;5;241m=\u001b[39mstderr)\n\u001b[1;32m    573\u001b[0m \u001b[38;5;28;01mreturn\u001b[39;00m CompletedProcess(process\u001b[38;5;241m.\u001b[39margs, retcode, stdout, stderr)\n",
      "\u001b[0;31mCalledProcessError\u001b[0m: Command '['sage', '/var/folders/g9/mx1ss3_94w3cylvbn32x2dqxx6lm77/T/tmp04qmmisn/wrapper.sage', '/Users/kgteller/Documents/GitHub/MATH_155_Checkit/outcomes/SLO/SLO5/generator.sage', '/Users/kgteller/Documents/GitHub/MATH_155_Checkit/assets/SLO5/generated/seeds.json', 'build']' returned non-zero exit status 1."
     ]
    },
    {
     "ename": "CalledProcessError",
     "evalue": "Command '['sage', '/var/folders/g9/mx1ss3_94w3cylvbn32x2dqxx6lm77/T/tmpah88dx8c/wrapper.sage', '/Users/kgteller/Documents/GitHub/MATH_155_Checkit/outcomes/SLO/SLO5/generator.sage', '/Users/kgteller/Documents/GitHub/MATH_155_Checkit/assets/SLO5/generated/seeds.json', 'build']' returned non-zero exit status 1.",
     "output_type": "error",
     "traceback": [
      "\u001b[0;31m---------------------------------------------------------------------------\u001b[0m",
      "\u001b[0;31mCalledProcessError\u001b[0m                        Traceback (most recent call last)",
      "File \u001b[0;32m/opt/anaconda3/lib/python3.12/site-packages/checkit/dashboard.py:96\u001b[0m, in \u001b[0;36moutcome_submenu.<locals>.build\u001b[0;34m(*args)\u001b[0m\n\u001b[1;32m     94\u001b[0m     display(Markdown(\u001b[38;5;124m\"\u001b[39m\u001b[38;5;124mGenerating 1,000 seeds...\u001b[39m\u001b[38;5;124m\"\u001b[39m))\n\u001b[1;32m     95\u001b[0m \u001b[38;5;28;01mwith\u001b[39;00m output:\n\u001b[0;32m---> 96\u001b[0m     o\u001b[38;5;241m.\u001b[39mgenerate_exercises(regenerate\u001b[38;5;241m=\u001b[39m\u001b[38;5;28;01mTrue\u001b[39;00m)\n\u001b[1;32m     97\u001b[0m reset(only_generated\u001b[38;5;241m=\u001b[39m\u001b[38;5;28;01mTrue\u001b[39;00m)\n\u001b[1;32m     98\u001b[0m \u001b[38;5;28;01mwith\u001b[39;00m output:\n",
      "File \u001b[0;32m/opt/anaconda3/lib/python3.12/site-packages/checkit/outcome.py:106\u001b[0m, in \u001b[0;36mOutcome.generate_exercises\u001b[0;34m(self, regenerate, images)\u001b[0m\n\u001b[1;32m    104\u001b[0m     \u001b[38;5;28;01mexcept\u001b[39;00m \u001b[38;5;167;01mRuntimeError\u001b[39;00m:\n\u001b[1;32m    105\u001b[0m         \u001b[38;5;28;01mpass\u001b[39;00m \u001b[38;5;66;03m# generation is necessary\u001b[39;00m\n\u001b[0;32m--> 106\u001b[0m sage(\u001b[38;5;28mself\u001b[39m,\u001b[38;5;28mself\u001b[39m\u001b[38;5;241m.\u001b[39mseeds_json_path(),preview\u001b[38;5;241m=\u001b[39m\u001b[38;5;28;01mFalse\u001b[39;00m,images\u001b[38;5;241m=\u001b[39mimages)\n\u001b[1;32m    107\u001b[0m \u001b[38;5;28mself\u001b[39m\u001b[38;5;241m.\u001b[39mload_exercises(reload\u001b[38;5;241m=\u001b[39m\u001b[38;5;28;01mTrue\u001b[39;00m)\n",
      "File \u001b[0;32m/opt/anaconda3/lib/python3.12/site-packages/checkit/wrapper/__init__.py:28\u001b[0m, in \u001b[0;36msage\u001b[0;34m(outcome, output_path, preview, images)\u001b[0m\n\u001b[1;32m     26\u001b[0m \u001b[38;5;28;01mif\u001b[39;00m images:\n\u001b[1;32m     27\u001b[0m     cmds \u001b[38;5;241m+\u001b[39m\u001b[38;5;241m=\u001b[39m [\u001b[38;5;124m\"\u001b[39m\u001b[38;5;124mimages\u001b[39m\u001b[38;5;124m\"\u001b[39m]\n\u001b[0;32m---> 28\u001b[0m subprocess\u001b[38;5;241m.\u001b[39mrun(cmds,check\u001b[38;5;241m=\u001b[39m\u001b[38;5;28;01mTrue\u001b[39;00m)\n",
      "File \u001b[0;32m/opt/anaconda3/lib/python3.12/subprocess.py:571\u001b[0m, in \u001b[0;36mrun\u001b[0;34m(input, capture_output, timeout, check, *popenargs, **kwargs)\u001b[0m\n\u001b[1;32m    569\u001b[0m     retcode \u001b[38;5;241m=\u001b[39m process\u001b[38;5;241m.\u001b[39mpoll()\n\u001b[1;32m    570\u001b[0m     \u001b[38;5;28;01mif\u001b[39;00m check \u001b[38;5;129;01mand\u001b[39;00m retcode:\n\u001b[0;32m--> 571\u001b[0m         \u001b[38;5;28;01mraise\u001b[39;00m CalledProcessError(retcode, process\u001b[38;5;241m.\u001b[39margs,\n\u001b[1;32m    572\u001b[0m                                  output\u001b[38;5;241m=\u001b[39mstdout, stderr\u001b[38;5;241m=\u001b[39mstderr)\n\u001b[1;32m    573\u001b[0m \u001b[38;5;28;01mreturn\u001b[39;00m CompletedProcess(process\u001b[38;5;241m.\u001b[39margs, retcode, stdout, stderr)\n",
      "\u001b[0;31mCalledProcessError\u001b[0m: Command '['sage', '/var/folders/g9/mx1ss3_94w3cylvbn32x2dqxx6lm77/T/tmpah88dx8c/wrapper.sage', '/Users/kgteller/Documents/GitHub/MATH_155_Checkit/outcomes/SLO/SLO5/generator.sage', '/Users/kgteller/Documents/GitHub/MATH_155_Checkit/assets/SLO5/generated/seeds.json', 'build']' returned non-zero exit status 1."
     ]
    },
    {
     "ename": "CalledProcessError",
     "evalue": "Command '['sage', '/var/folders/g9/mx1ss3_94w3cylvbn32x2dqxx6lm77/T/tmpjfyb4w7d/wrapper.sage', '/Users/kgteller/Documents/GitHub/MATH_155_Checkit/outcomes/SLO/SLO5/generator.sage', '/Users/kgteller/Documents/GitHub/MATH_155_Checkit/assets/SLO5/generated/seeds.json', 'build']' returned non-zero exit status 1.",
     "output_type": "error",
     "traceback": [
      "\u001b[0;31m---------------------------------------------------------------------------\u001b[0m",
      "\u001b[0;31mCalledProcessError\u001b[0m                        Traceback (most recent call last)",
      "File \u001b[0;32m/opt/anaconda3/lib/python3.12/site-packages/checkit/dashboard.py:96\u001b[0m, in \u001b[0;36moutcome_submenu.<locals>.build\u001b[0;34m(*args)\u001b[0m\n\u001b[1;32m     94\u001b[0m     display(Markdown(\u001b[38;5;124m\"\u001b[39m\u001b[38;5;124mGenerating 1,000 seeds...\u001b[39m\u001b[38;5;124m\"\u001b[39m))\n\u001b[1;32m     95\u001b[0m \u001b[38;5;28;01mwith\u001b[39;00m output:\n\u001b[0;32m---> 96\u001b[0m     o\u001b[38;5;241m.\u001b[39mgenerate_exercises(regenerate\u001b[38;5;241m=\u001b[39m\u001b[38;5;28;01mTrue\u001b[39;00m)\n\u001b[1;32m     97\u001b[0m reset(only_generated\u001b[38;5;241m=\u001b[39m\u001b[38;5;28;01mTrue\u001b[39;00m)\n\u001b[1;32m     98\u001b[0m \u001b[38;5;28;01mwith\u001b[39;00m output:\n",
      "File \u001b[0;32m/opt/anaconda3/lib/python3.12/site-packages/checkit/outcome.py:106\u001b[0m, in \u001b[0;36mOutcome.generate_exercises\u001b[0;34m(self, regenerate, images)\u001b[0m\n\u001b[1;32m    104\u001b[0m     \u001b[38;5;28;01mexcept\u001b[39;00m \u001b[38;5;167;01mRuntimeError\u001b[39;00m:\n\u001b[1;32m    105\u001b[0m         \u001b[38;5;28;01mpass\u001b[39;00m \u001b[38;5;66;03m# generation is necessary\u001b[39;00m\n\u001b[0;32m--> 106\u001b[0m sage(\u001b[38;5;28mself\u001b[39m,\u001b[38;5;28mself\u001b[39m\u001b[38;5;241m.\u001b[39mseeds_json_path(),preview\u001b[38;5;241m=\u001b[39m\u001b[38;5;28;01mFalse\u001b[39;00m,images\u001b[38;5;241m=\u001b[39mimages)\n\u001b[1;32m    107\u001b[0m \u001b[38;5;28mself\u001b[39m\u001b[38;5;241m.\u001b[39mload_exercises(reload\u001b[38;5;241m=\u001b[39m\u001b[38;5;28;01mTrue\u001b[39;00m)\n",
      "File \u001b[0;32m/opt/anaconda3/lib/python3.12/site-packages/checkit/wrapper/__init__.py:28\u001b[0m, in \u001b[0;36msage\u001b[0;34m(outcome, output_path, preview, images)\u001b[0m\n\u001b[1;32m     26\u001b[0m \u001b[38;5;28;01mif\u001b[39;00m images:\n\u001b[1;32m     27\u001b[0m     cmds \u001b[38;5;241m+\u001b[39m\u001b[38;5;241m=\u001b[39m [\u001b[38;5;124m\"\u001b[39m\u001b[38;5;124mimages\u001b[39m\u001b[38;5;124m\"\u001b[39m]\n\u001b[0;32m---> 28\u001b[0m subprocess\u001b[38;5;241m.\u001b[39mrun(cmds,check\u001b[38;5;241m=\u001b[39m\u001b[38;5;28;01mTrue\u001b[39;00m)\n",
      "File \u001b[0;32m/opt/anaconda3/lib/python3.12/subprocess.py:571\u001b[0m, in \u001b[0;36mrun\u001b[0;34m(input, capture_output, timeout, check, *popenargs, **kwargs)\u001b[0m\n\u001b[1;32m    569\u001b[0m     retcode \u001b[38;5;241m=\u001b[39m process\u001b[38;5;241m.\u001b[39mpoll()\n\u001b[1;32m    570\u001b[0m     \u001b[38;5;28;01mif\u001b[39;00m check \u001b[38;5;129;01mand\u001b[39;00m retcode:\n\u001b[0;32m--> 571\u001b[0m         \u001b[38;5;28;01mraise\u001b[39;00m CalledProcessError(retcode, process\u001b[38;5;241m.\u001b[39margs,\n\u001b[1;32m    572\u001b[0m                                  output\u001b[38;5;241m=\u001b[39mstdout, stderr\u001b[38;5;241m=\u001b[39mstderr)\n\u001b[1;32m    573\u001b[0m \u001b[38;5;28;01mreturn\u001b[39;00m CompletedProcess(process\u001b[38;5;241m.\u001b[39margs, retcode, stdout, stderr)\n",
      "\u001b[0;31mCalledProcessError\u001b[0m: Command '['sage', '/var/folders/g9/mx1ss3_94w3cylvbn32x2dqxx6lm77/T/tmpjfyb4w7d/wrapper.sage', '/Users/kgteller/Documents/GitHub/MATH_155_Checkit/outcomes/SLO/SLO5/generator.sage', '/Users/kgteller/Documents/GitHub/MATH_155_Checkit/assets/SLO5/generated/seeds.json', 'build']' returned non-zero exit status 1."
     ]
    },
    {
     "ename": "CalledProcessError",
     "evalue": "Command '['sage', '/var/folders/g9/mx1ss3_94w3cylvbn32x2dqxx6lm77/T/tmpx89llptu/wrapper.sage', '/Users/kgteller/Documents/GitHub/MATH_155_Checkit/outcomes/SLO/SLO5/generator.sage', '/Users/kgteller/Documents/GitHub/MATH_155_Checkit/assets/SLO5/generated/seeds.json', 'build']' returned non-zero exit status 1.",
     "output_type": "error",
     "traceback": [
      "\u001b[0;31m---------------------------------------------------------------------------\u001b[0m",
      "\u001b[0;31mCalledProcessError\u001b[0m                        Traceback (most recent call last)",
      "File \u001b[0;32m/opt/anaconda3/lib/python3.12/site-packages/checkit/dashboard.py:96\u001b[0m, in \u001b[0;36moutcome_submenu.<locals>.build\u001b[0;34m(*args)\u001b[0m\n\u001b[1;32m     94\u001b[0m     display(Markdown(\u001b[38;5;124m\"\u001b[39m\u001b[38;5;124mGenerating 1,000 seeds...\u001b[39m\u001b[38;5;124m\"\u001b[39m))\n\u001b[1;32m     95\u001b[0m \u001b[38;5;28;01mwith\u001b[39;00m output:\n\u001b[0;32m---> 96\u001b[0m     o\u001b[38;5;241m.\u001b[39mgenerate_exercises(regenerate\u001b[38;5;241m=\u001b[39m\u001b[38;5;28;01mTrue\u001b[39;00m)\n\u001b[1;32m     97\u001b[0m reset(only_generated\u001b[38;5;241m=\u001b[39m\u001b[38;5;28;01mTrue\u001b[39;00m)\n\u001b[1;32m     98\u001b[0m \u001b[38;5;28;01mwith\u001b[39;00m output:\n",
      "File \u001b[0;32m/opt/anaconda3/lib/python3.12/site-packages/checkit/outcome.py:106\u001b[0m, in \u001b[0;36mOutcome.generate_exercises\u001b[0;34m(self, regenerate, images)\u001b[0m\n\u001b[1;32m    104\u001b[0m     \u001b[38;5;28;01mexcept\u001b[39;00m \u001b[38;5;167;01mRuntimeError\u001b[39;00m:\n\u001b[1;32m    105\u001b[0m         \u001b[38;5;28;01mpass\u001b[39;00m \u001b[38;5;66;03m# generation is necessary\u001b[39;00m\n\u001b[0;32m--> 106\u001b[0m sage(\u001b[38;5;28mself\u001b[39m,\u001b[38;5;28mself\u001b[39m\u001b[38;5;241m.\u001b[39mseeds_json_path(),preview\u001b[38;5;241m=\u001b[39m\u001b[38;5;28;01mFalse\u001b[39;00m,images\u001b[38;5;241m=\u001b[39mimages)\n\u001b[1;32m    107\u001b[0m \u001b[38;5;28mself\u001b[39m\u001b[38;5;241m.\u001b[39mload_exercises(reload\u001b[38;5;241m=\u001b[39m\u001b[38;5;28;01mTrue\u001b[39;00m)\n",
      "File \u001b[0;32m/opt/anaconda3/lib/python3.12/site-packages/checkit/wrapper/__init__.py:28\u001b[0m, in \u001b[0;36msage\u001b[0;34m(outcome, output_path, preview, images)\u001b[0m\n\u001b[1;32m     26\u001b[0m \u001b[38;5;28;01mif\u001b[39;00m images:\n\u001b[1;32m     27\u001b[0m     cmds \u001b[38;5;241m+\u001b[39m\u001b[38;5;241m=\u001b[39m [\u001b[38;5;124m\"\u001b[39m\u001b[38;5;124mimages\u001b[39m\u001b[38;5;124m\"\u001b[39m]\n\u001b[0;32m---> 28\u001b[0m subprocess\u001b[38;5;241m.\u001b[39mrun(cmds,check\u001b[38;5;241m=\u001b[39m\u001b[38;5;28;01mTrue\u001b[39;00m)\n",
      "File \u001b[0;32m/opt/anaconda3/lib/python3.12/subprocess.py:571\u001b[0m, in \u001b[0;36mrun\u001b[0;34m(input, capture_output, timeout, check, *popenargs, **kwargs)\u001b[0m\n\u001b[1;32m    569\u001b[0m     retcode \u001b[38;5;241m=\u001b[39m process\u001b[38;5;241m.\u001b[39mpoll()\n\u001b[1;32m    570\u001b[0m     \u001b[38;5;28;01mif\u001b[39;00m check \u001b[38;5;129;01mand\u001b[39;00m retcode:\n\u001b[0;32m--> 571\u001b[0m         \u001b[38;5;28;01mraise\u001b[39;00m CalledProcessError(retcode, process\u001b[38;5;241m.\u001b[39margs,\n\u001b[1;32m    572\u001b[0m                                  output\u001b[38;5;241m=\u001b[39mstdout, stderr\u001b[38;5;241m=\u001b[39mstderr)\n\u001b[1;32m    573\u001b[0m \u001b[38;5;28;01mreturn\u001b[39;00m CompletedProcess(process\u001b[38;5;241m.\u001b[39margs, retcode, stdout, stderr)\n",
      "\u001b[0;31mCalledProcessError\u001b[0m: Command '['sage', '/var/folders/g9/mx1ss3_94w3cylvbn32x2dqxx6lm77/T/tmpx89llptu/wrapper.sage', '/Users/kgteller/Documents/GitHub/MATH_155_Checkit/outcomes/SLO/SLO5/generator.sage', '/Users/kgteller/Documents/GitHub/MATH_155_Checkit/assets/SLO5/generated/seeds.json', 'build']' returned non-zero exit status 1."
     ]
    },
    {
     "ename": "CalledProcessError",
     "evalue": "Command '['sage', '/var/folders/g9/mx1ss3_94w3cylvbn32x2dqxx6lm77/T/tmpnb6u1zia/wrapper.sage', '/Users/kgteller/Documents/GitHub/MATH_155_Checkit/outcomes/SLO/SLO5/generator.sage', '/Users/kgteller/Documents/GitHub/MATH_155_Checkit/assets/SLO5/generated/seeds.json', 'build']' returned non-zero exit status 1.",
     "output_type": "error",
     "traceback": [
      "\u001b[0;31m---------------------------------------------------------------------------\u001b[0m",
      "\u001b[0;31mCalledProcessError\u001b[0m                        Traceback (most recent call last)",
      "File \u001b[0;32m/opt/anaconda3/lib/python3.12/site-packages/checkit/dashboard.py:96\u001b[0m, in \u001b[0;36moutcome_submenu.<locals>.build\u001b[0;34m(*args)\u001b[0m\n\u001b[1;32m     94\u001b[0m     display(Markdown(\u001b[38;5;124m\"\u001b[39m\u001b[38;5;124mGenerating 1,000 seeds...\u001b[39m\u001b[38;5;124m\"\u001b[39m))\n\u001b[1;32m     95\u001b[0m \u001b[38;5;28;01mwith\u001b[39;00m output:\n\u001b[0;32m---> 96\u001b[0m     o\u001b[38;5;241m.\u001b[39mgenerate_exercises(regenerate\u001b[38;5;241m=\u001b[39m\u001b[38;5;28;01mTrue\u001b[39;00m)\n\u001b[1;32m     97\u001b[0m reset(only_generated\u001b[38;5;241m=\u001b[39m\u001b[38;5;28;01mTrue\u001b[39;00m)\n\u001b[1;32m     98\u001b[0m \u001b[38;5;28;01mwith\u001b[39;00m output:\n",
      "File \u001b[0;32m/opt/anaconda3/lib/python3.12/site-packages/checkit/outcome.py:106\u001b[0m, in \u001b[0;36mOutcome.generate_exercises\u001b[0;34m(self, regenerate, images)\u001b[0m\n\u001b[1;32m    104\u001b[0m     \u001b[38;5;28;01mexcept\u001b[39;00m \u001b[38;5;167;01mRuntimeError\u001b[39;00m:\n\u001b[1;32m    105\u001b[0m         \u001b[38;5;28;01mpass\u001b[39;00m \u001b[38;5;66;03m# generation is necessary\u001b[39;00m\n\u001b[0;32m--> 106\u001b[0m sage(\u001b[38;5;28mself\u001b[39m,\u001b[38;5;28mself\u001b[39m\u001b[38;5;241m.\u001b[39mseeds_json_path(),preview\u001b[38;5;241m=\u001b[39m\u001b[38;5;28;01mFalse\u001b[39;00m,images\u001b[38;5;241m=\u001b[39mimages)\n\u001b[1;32m    107\u001b[0m \u001b[38;5;28mself\u001b[39m\u001b[38;5;241m.\u001b[39mload_exercises(reload\u001b[38;5;241m=\u001b[39m\u001b[38;5;28;01mTrue\u001b[39;00m)\n",
      "File \u001b[0;32m/opt/anaconda3/lib/python3.12/site-packages/checkit/wrapper/__init__.py:28\u001b[0m, in \u001b[0;36msage\u001b[0;34m(outcome, output_path, preview, images)\u001b[0m\n\u001b[1;32m     26\u001b[0m \u001b[38;5;28;01mif\u001b[39;00m images:\n\u001b[1;32m     27\u001b[0m     cmds \u001b[38;5;241m+\u001b[39m\u001b[38;5;241m=\u001b[39m [\u001b[38;5;124m\"\u001b[39m\u001b[38;5;124mimages\u001b[39m\u001b[38;5;124m\"\u001b[39m]\n\u001b[0;32m---> 28\u001b[0m subprocess\u001b[38;5;241m.\u001b[39mrun(cmds,check\u001b[38;5;241m=\u001b[39m\u001b[38;5;28;01mTrue\u001b[39;00m)\n",
      "File \u001b[0;32m/opt/anaconda3/lib/python3.12/subprocess.py:571\u001b[0m, in \u001b[0;36mrun\u001b[0;34m(input, capture_output, timeout, check, *popenargs, **kwargs)\u001b[0m\n\u001b[1;32m    569\u001b[0m     retcode \u001b[38;5;241m=\u001b[39m process\u001b[38;5;241m.\u001b[39mpoll()\n\u001b[1;32m    570\u001b[0m     \u001b[38;5;28;01mif\u001b[39;00m check \u001b[38;5;129;01mand\u001b[39;00m retcode:\n\u001b[0;32m--> 571\u001b[0m         \u001b[38;5;28;01mraise\u001b[39;00m CalledProcessError(retcode, process\u001b[38;5;241m.\u001b[39margs,\n\u001b[1;32m    572\u001b[0m                                  output\u001b[38;5;241m=\u001b[39mstdout, stderr\u001b[38;5;241m=\u001b[39mstderr)\n\u001b[1;32m    573\u001b[0m \u001b[38;5;28;01mreturn\u001b[39;00m CompletedProcess(process\u001b[38;5;241m.\u001b[39margs, retcode, stdout, stderr)\n",
      "\u001b[0;31mCalledProcessError\u001b[0m: Command '['sage', '/var/folders/g9/mx1ss3_94w3cylvbn32x2dqxx6lm77/T/tmpnb6u1zia/wrapper.sage', '/Users/kgteller/Documents/GitHub/MATH_155_Checkit/outcomes/SLO/SLO5/generator.sage', '/Users/kgteller/Documents/GitHub/MATH_155_Checkit/assets/SLO5/generated/seeds.json', 'build']' returned non-zero exit status 1."
     ]
    },
    {
     "ename": "CalledProcessError",
     "evalue": "Command '['sage', '/var/folders/g9/mx1ss3_94w3cylvbn32x2dqxx6lm77/T/tmpod95f_x3/wrapper.sage', '/Users/kgteller/Documents/GitHub/MATH_155_Checkit/outcomes/SLO/SLO5/generator.sage', '/Users/kgteller/Documents/GitHub/MATH_155_Checkit/assets/SLO5/generated/seeds.json', 'build']' returned non-zero exit status 1.",
     "output_type": "error",
     "traceback": [
      "\u001b[0;31m---------------------------------------------------------------------------\u001b[0m",
      "\u001b[0;31mCalledProcessError\u001b[0m                        Traceback (most recent call last)",
      "File \u001b[0;32m/opt/anaconda3/lib/python3.12/site-packages/checkit/dashboard.py:96\u001b[0m, in \u001b[0;36moutcome_submenu.<locals>.build\u001b[0;34m(*args)\u001b[0m\n\u001b[1;32m     94\u001b[0m     display(Markdown(\u001b[38;5;124m\"\u001b[39m\u001b[38;5;124mGenerating 1,000 seeds...\u001b[39m\u001b[38;5;124m\"\u001b[39m))\n\u001b[1;32m     95\u001b[0m \u001b[38;5;28;01mwith\u001b[39;00m output:\n\u001b[0;32m---> 96\u001b[0m     o\u001b[38;5;241m.\u001b[39mgenerate_exercises(regenerate\u001b[38;5;241m=\u001b[39m\u001b[38;5;28;01mTrue\u001b[39;00m)\n\u001b[1;32m     97\u001b[0m reset(only_generated\u001b[38;5;241m=\u001b[39m\u001b[38;5;28;01mTrue\u001b[39;00m)\n\u001b[1;32m     98\u001b[0m \u001b[38;5;28;01mwith\u001b[39;00m output:\n",
      "File \u001b[0;32m/opt/anaconda3/lib/python3.12/site-packages/checkit/outcome.py:106\u001b[0m, in \u001b[0;36mOutcome.generate_exercises\u001b[0;34m(self, regenerate, images)\u001b[0m\n\u001b[1;32m    104\u001b[0m     \u001b[38;5;28;01mexcept\u001b[39;00m \u001b[38;5;167;01mRuntimeError\u001b[39;00m:\n\u001b[1;32m    105\u001b[0m         \u001b[38;5;28;01mpass\u001b[39;00m \u001b[38;5;66;03m# generation is necessary\u001b[39;00m\n\u001b[0;32m--> 106\u001b[0m sage(\u001b[38;5;28mself\u001b[39m,\u001b[38;5;28mself\u001b[39m\u001b[38;5;241m.\u001b[39mseeds_json_path(),preview\u001b[38;5;241m=\u001b[39m\u001b[38;5;28;01mFalse\u001b[39;00m,images\u001b[38;5;241m=\u001b[39mimages)\n\u001b[1;32m    107\u001b[0m \u001b[38;5;28mself\u001b[39m\u001b[38;5;241m.\u001b[39mload_exercises(reload\u001b[38;5;241m=\u001b[39m\u001b[38;5;28;01mTrue\u001b[39;00m)\n",
      "File \u001b[0;32m/opt/anaconda3/lib/python3.12/site-packages/checkit/wrapper/__init__.py:28\u001b[0m, in \u001b[0;36msage\u001b[0;34m(outcome, output_path, preview, images)\u001b[0m\n\u001b[1;32m     26\u001b[0m \u001b[38;5;28;01mif\u001b[39;00m images:\n\u001b[1;32m     27\u001b[0m     cmds \u001b[38;5;241m+\u001b[39m\u001b[38;5;241m=\u001b[39m [\u001b[38;5;124m\"\u001b[39m\u001b[38;5;124mimages\u001b[39m\u001b[38;5;124m\"\u001b[39m]\n\u001b[0;32m---> 28\u001b[0m subprocess\u001b[38;5;241m.\u001b[39mrun(cmds,check\u001b[38;5;241m=\u001b[39m\u001b[38;5;28;01mTrue\u001b[39;00m)\n",
      "File \u001b[0;32m/opt/anaconda3/lib/python3.12/subprocess.py:571\u001b[0m, in \u001b[0;36mrun\u001b[0;34m(input, capture_output, timeout, check, *popenargs, **kwargs)\u001b[0m\n\u001b[1;32m    569\u001b[0m     retcode \u001b[38;5;241m=\u001b[39m process\u001b[38;5;241m.\u001b[39mpoll()\n\u001b[1;32m    570\u001b[0m     \u001b[38;5;28;01mif\u001b[39;00m check \u001b[38;5;129;01mand\u001b[39;00m retcode:\n\u001b[0;32m--> 571\u001b[0m         \u001b[38;5;28;01mraise\u001b[39;00m CalledProcessError(retcode, process\u001b[38;5;241m.\u001b[39margs,\n\u001b[1;32m    572\u001b[0m                                  output\u001b[38;5;241m=\u001b[39mstdout, stderr\u001b[38;5;241m=\u001b[39mstderr)\n\u001b[1;32m    573\u001b[0m \u001b[38;5;28;01mreturn\u001b[39;00m CompletedProcess(process\u001b[38;5;241m.\u001b[39margs, retcode, stdout, stderr)\n",
      "\u001b[0;31mCalledProcessError\u001b[0m: Command '['sage', '/var/folders/g9/mx1ss3_94w3cylvbn32x2dqxx6lm77/T/tmpod95f_x3/wrapper.sage', '/Users/kgteller/Documents/GitHub/MATH_155_Checkit/outcomes/SLO/SLO5/generator.sage', '/Users/kgteller/Documents/GitHub/MATH_155_Checkit/assets/SLO5/generated/seeds.json', 'build']' returned non-zero exit status 1."
     ]
    },
    {
     "ename": "CalledProcessError",
     "evalue": "Command '['sage', '/var/folders/g9/mx1ss3_94w3cylvbn32x2dqxx6lm77/T/tmpjfli0_as/wrapper.sage', '/Users/kgteller/Documents/GitHub/MATH_155_Checkit/outcomes/SLO/SLO5/generator.sage', '/Users/kgteller/Documents/GitHub/MATH_155_Checkit/assets/SLO5/generated/seeds.json', 'build']' returned non-zero exit status 1.",
     "output_type": "error",
     "traceback": [
      "\u001b[0;31m---------------------------------------------------------------------------\u001b[0m",
      "\u001b[0;31mCalledProcessError\u001b[0m                        Traceback (most recent call last)",
      "File \u001b[0;32m/opt/anaconda3/lib/python3.12/site-packages/checkit/dashboard.py:96\u001b[0m, in \u001b[0;36moutcome_submenu.<locals>.build\u001b[0;34m(*args)\u001b[0m\n\u001b[1;32m     94\u001b[0m     display(Markdown(\u001b[38;5;124m\"\u001b[39m\u001b[38;5;124mGenerating 1,000 seeds...\u001b[39m\u001b[38;5;124m\"\u001b[39m))\n\u001b[1;32m     95\u001b[0m \u001b[38;5;28;01mwith\u001b[39;00m output:\n\u001b[0;32m---> 96\u001b[0m     o\u001b[38;5;241m.\u001b[39mgenerate_exercises(regenerate\u001b[38;5;241m=\u001b[39m\u001b[38;5;28;01mTrue\u001b[39;00m)\n\u001b[1;32m     97\u001b[0m reset(only_generated\u001b[38;5;241m=\u001b[39m\u001b[38;5;28;01mTrue\u001b[39;00m)\n\u001b[1;32m     98\u001b[0m \u001b[38;5;28;01mwith\u001b[39;00m output:\n",
      "File \u001b[0;32m/opt/anaconda3/lib/python3.12/site-packages/checkit/outcome.py:106\u001b[0m, in \u001b[0;36mOutcome.generate_exercises\u001b[0;34m(self, regenerate, images)\u001b[0m\n\u001b[1;32m    104\u001b[0m     \u001b[38;5;28;01mexcept\u001b[39;00m \u001b[38;5;167;01mRuntimeError\u001b[39;00m:\n\u001b[1;32m    105\u001b[0m         \u001b[38;5;28;01mpass\u001b[39;00m \u001b[38;5;66;03m# generation is necessary\u001b[39;00m\n\u001b[0;32m--> 106\u001b[0m sage(\u001b[38;5;28mself\u001b[39m,\u001b[38;5;28mself\u001b[39m\u001b[38;5;241m.\u001b[39mseeds_json_path(),preview\u001b[38;5;241m=\u001b[39m\u001b[38;5;28;01mFalse\u001b[39;00m,images\u001b[38;5;241m=\u001b[39mimages)\n\u001b[1;32m    107\u001b[0m \u001b[38;5;28mself\u001b[39m\u001b[38;5;241m.\u001b[39mload_exercises(reload\u001b[38;5;241m=\u001b[39m\u001b[38;5;28;01mTrue\u001b[39;00m)\n",
      "File \u001b[0;32m/opt/anaconda3/lib/python3.12/site-packages/checkit/wrapper/__init__.py:28\u001b[0m, in \u001b[0;36msage\u001b[0;34m(outcome, output_path, preview, images)\u001b[0m\n\u001b[1;32m     26\u001b[0m \u001b[38;5;28;01mif\u001b[39;00m images:\n\u001b[1;32m     27\u001b[0m     cmds \u001b[38;5;241m+\u001b[39m\u001b[38;5;241m=\u001b[39m [\u001b[38;5;124m\"\u001b[39m\u001b[38;5;124mimages\u001b[39m\u001b[38;5;124m\"\u001b[39m]\n\u001b[0;32m---> 28\u001b[0m subprocess\u001b[38;5;241m.\u001b[39mrun(cmds,check\u001b[38;5;241m=\u001b[39m\u001b[38;5;28;01mTrue\u001b[39;00m)\n",
      "File \u001b[0;32m/opt/anaconda3/lib/python3.12/subprocess.py:571\u001b[0m, in \u001b[0;36mrun\u001b[0;34m(input, capture_output, timeout, check, *popenargs, **kwargs)\u001b[0m\n\u001b[1;32m    569\u001b[0m     retcode \u001b[38;5;241m=\u001b[39m process\u001b[38;5;241m.\u001b[39mpoll()\n\u001b[1;32m    570\u001b[0m     \u001b[38;5;28;01mif\u001b[39;00m check \u001b[38;5;129;01mand\u001b[39;00m retcode:\n\u001b[0;32m--> 571\u001b[0m         \u001b[38;5;28;01mraise\u001b[39;00m CalledProcessError(retcode, process\u001b[38;5;241m.\u001b[39margs,\n\u001b[1;32m    572\u001b[0m                                  output\u001b[38;5;241m=\u001b[39mstdout, stderr\u001b[38;5;241m=\u001b[39mstderr)\n\u001b[1;32m    573\u001b[0m \u001b[38;5;28;01mreturn\u001b[39;00m CompletedProcess(process\u001b[38;5;241m.\u001b[39margs, retcode, stdout, stderr)\n",
      "\u001b[0;31mCalledProcessError\u001b[0m: Command '['sage', '/var/folders/g9/mx1ss3_94w3cylvbn32x2dqxx6lm77/T/tmpjfli0_as/wrapper.sage', '/Users/kgteller/Documents/GitHub/MATH_155_Checkit/outcomes/SLO/SLO5/generator.sage', '/Users/kgteller/Documents/GitHub/MATH_155_Checkit/assets/SLO5/generated/seeds.json', 'build']' returned non-zero exit status 1."
     ]
    },
    {
     "ename": "CalledProcessError",
     "evalue": "Command '['sage', '/var/folders/g9/mx1ss3_94w3cylvbn32x2dqxx6lm77/T/tmp9gd1qitb/wrapper.sage', '/Users/kgteller/Documents/GitHub/MATH_155_Checkit/outcomes/SLO/SLO5/generator.sage', '/Users/kgteller/Documents/GitHub/MATH_155_Checkit/assets/SLO5/generated/seeds.json', 'build']' returned non-zero exit status 1.",
     "output_type": "error",
     "traceback": [
      "\u001b[0;31m---------------------------------------------------------------------------\u001b[0m",
      "\u001b[0;31mCalledProcessError\u001b[0m                        Traceback (most recent call last)",
      "File \u001b[0;32m/opt/anaconda3/lib/python3.12/site-packages/checkit/dashboard.py:96\u001b[0m, in \u001b[0;36moutcome_submenu.<locals>.build\u001b[0;34m(*args)\u001b[0m\n\u001b[1;32m     94\u001b[0m     display(Markdown(\u001b[38;5;124m\"\u001b[39m\u001b[38;5;124mGenerating 1,000 seeds...\u001b[39m\u001b[38;5;124m\"\u001b[39m))\n\u001b[1;32m     95\u001b[0m \u001b[38;5;28;01mwith\u001b[39;00m output:\n\u001b[0;32m---> 96\u001b[0m     o\u001b[38;5;241m.\u001b[39mgenerate_exercises(regenerate\u001b[38;5;241m=\u001b[39m\u001b[38;5;28;01mTrue\u001b[39;00m)\n\u001b[1;32m     97\u001b[0m reset(only_generated\u001b[38;5;241m=\u001b[39m\u001b[38;5;28;01mTrue\u001b[39;00m)\n\u001b[1;32m     98\u001b[0m \u001b[38;5;28;01mwith\u001b[39;00m output:\n",
      "File \u001b[0;32m/opt/anaconda3/lib/python3.12/site-packages/checkit/outcome.py:106\u001b[0m, in \u001b[0;36mOutcome.generate_exercises\u001b[0;34m(self, regenerate, images)\u001b[0m\n\u001b[1;32m    104\u001b[0m     \u001b[38;5;28;01mexcept\u001b[39;00m \u001b[38;5;167;01mRuntimeError\u001b[39;00m:\n\u001b[1;32m    105\u001b[0m         \u001b[38;5;28;01mpass\u001b[39;00m \u001b[38;5;66;03m# generation is necessary\u001b[39;00m\n\u001b[0;32m--> 106\u001b[0m sage(\u001b[38;5;28mself\u001b[39m,\u001b[38;5;28mself\u001b[39m\u001b[38;5;241m.\u001b[39mseeds_json_path(),preview\u001b[38;5;241m=\u001b[39m\u001b[38;5;28;01mFalse\u001b[39;00m,images\u001b[38;5;241m=\u001b[39mimages)\n\u001b[1;32m    107\u001b[0m \u001b[38;5;28mself\u001b[39m\u001b[38;5;241m.\u001b[39mload_exercises(reload\u001b[38;5;241m=\u001b[39m\u001b[38;5;28;01mTrue\u001b[39;00m)\n",
      "File \u001b[0;32m/opt/anaconda3/lib/python3.12/site-packages/checkit/wrapper/__init__.py:28\u001b[0m, in \u001b[0;36msage\u001b[0;34m(outcome, output_path, preview, images)\u001b[0m\n\u001b[1;32m     26\u001b[0m \u001b[38;5;28;01mif\u001b[39;00m images:\n\u001b[1;32m     27\u001b[0m     cmds \u001b[38;5;241m+\u001b[39m\u001b[38;5;241m=\u001b[39m [\u001b[38;5;124m\"\u001b[39m\u001b[38;5;124mimages\u001b[39m\u001b[38;5;124m\"\u001b[39m]\n\u001b[0;32m---> 28\u001b[0m subprocess\u001b[38;5;241m.\u001b[39mrun(cmds,check\u001b[38;5;241m=\u001b[39m\u001b[38;5;28;01mTrue\u001b[39;00m)\n",
      "File \u001b[0;32m/opt/anaconda3/lib/python3.12/subprocess.py:571\u001b[0m, in \u001b[0;36mrun\u001b[0;34m(input, capture_output, timeout, check, *popenargs, **kwargs)\u001b[0m\n\u001b[1;32m    569\u001b[0m     retcode \u001b[38;5;241m=\u001b[39m process\u001b[38;5;241m.\u001b[39mpoll()\n\u001b[1;32m    570\u001b[0m     \u001b[38;5;28;01mif\u001b[39;00m check \u001b[38;5;129;01mand\u001b[39;00m retcode:\n\u001b[0;32m--> 571\u001b[0m         \u001b[38;5;28;01mraise\u001b[39;00m CalledProcessError(retcode, process\u001b[38;5;241m.\u001b[39margs,\n\u001b[1;32m    572\u001b[0m                                  output\u001b[38;5;241m=\u001b[39mstdout, stderr\u001b[38;5;241m=\u001b[39mstderr)\n\u001b[1;32m    573\u001b[0m \u001b[38;5;28;01mreturn\u001b[39;00m CompletedProcess(process\u001b[38;5;241m.\u001b[39margs, retcode, stdout, stderr)\n",
      "\u001b[0;31mCalledProcessError\u001b[0m: Command '['sage', '/var/folders/g9/mx1ss3_94w3cylvbn32x2dqxx6lm77/T/tmp9gd1qitb/wrapper.sage', '/Users/kgteller/Documents/GitHub/MATH_155_Checkit/outcomes/SLO/SLO5/generator.sage', '/Users/kgteller/Documents/GitHub/MATH_155_Checkit/assets/SLO5/generated/seeds.json', 'build']' returned non-zero exit status 1."
     ]
    },
    {
     "ename": "CalledProcessError",
     "evalue": "Command '['sage', '/var/folders/g9/mx1ss3_94w3cylvbn32x2dqxx6lm77/T/tmpz4mhe11d/wrapper.sage', '/Users/kgteller/Documents/GitHub/MATH_155_Checkit/outcomes/SLO/SLO5/generator.sage', '/Users/kgteller/Documents/GitHub/MATH_155_Checkit/assets/SLO5/generated/seeds.json', 'build']' returned non-zero exit status 1.",
     "output_type": "error",
     "traceback": [
      "\u001b[0;31m---------------------------------------------------------------------------\u001b[0m",
      "\u001b[0;31mCalledProcessError\u001b[0m                        Traceback (most recent call last)",
      "File \u001b[0;32m/opt/anaconda3/lib/python3.12/site-packages/checkit/dashboard.py:96\u001b[0m, in \u001b[0;36moutcome_submenu.<locals>.build\u001b[0;34m(*args)\u001b[0m\n\u001b[1;32m     94\u001b[0m     display(Markdown(\u001b[38;5;124m\"\u001b[39m\u001b[38;5;124mGenerating 1,000 seeds...\u001b[39m\u001b[38;5;124m\"\u001b[39m))\n\u001b[1;32m     95\u001b[0m \u001b[38;5;28;01mwith\u001b[39;00m output:\n\u001b[0;32m---> 96\u001b[0m     o\u001b[38;5;241m.\u001b[39mgenerate_exercises(regenerate\u001b[38;5;241m=\u001b[39m\u001b[38;5;28;01mTrue\u001b[39;00m)\n\u001b[1;32m     97\u001b[0m reset(only_generated\u001b[38;5;241m=\u001b[39m\u001b[38;5;28;01mTrue\u001b[39;00m)\n\u001b[1;32m     98\u001b[0m \u001b[38;5;28;01mwith\u001b[39;00m output:\n",
      "File \u001b[0;32m/opt/anaconda3/lib/python3.12/site-packages/checkit/outcome.py:106\u001b[0m, in \u001b[0;36mOutcome.generate_exercises\u001b[0;34m(self, regenerate, images)\u001b[0m\n\u001b[1;32m    104\u001b[0m     \u001b[38;5;28;01mexcept\u001b[39;00m \u001b[38;5;167;01mRuntimeError\u001b[39;00m:\n\u001b[1;32m    105\u001b[0m         \u001b[38;5;28;01mpass\u001b[39;00m \u001b[38;5;66;03m# generation is necessary\u001b[39;00m\n\u001b[0;32m--> 106\u001b[0m sage(\u001b[38;5;28mself\u001b[39m,\u001b[38;5;28mself\u001b[39m\u001b[38;5;241m.\u001b[39mseeds_json_path(),preview\u001b[38;5;241m=\u001b[39m\u001b[38;5;28;01mFalse\u001b[39;00m,images\u001b[38;5;241m=\u001b[39mimages)\n\u001b[1;32m    107\u001b[0m \u001b[38;5;28mself\u001b[39m\u001b[38;5;241m.\u001b[39mload_exercises(reload\u001b[38;5;241m=\u001b[39m\u001b[38;5;28;01mTrue\u001b[39;00m)\n",
      "File \u001b[0;32m/opt/anaconda3/lib/python3.12/site-packages/checkit/wrapper/__init__.py:28\u001b[0m, in \u001b[0;36msage\u001b[0;34m(outcome, output_path, preview, images)\u001b[0m\n\u001b[1;32m     26\u001b[0m \u001b[38;5;28;01mif\u001b[39;00m images:\n\u001b[1;32m     27\u001b[0m     cmds \u001b[38;5;241m+\u001b[39m\u001b[38;5;241m=\u001b[39m [\u001b[38;5;124m\"\u001b[39m\u001b[38;5;124mimages\u001b[39m\u001b[38;5;124m\"\u001b[39m]\n\u001b[0;32m---> 28\u001b[0m subprocess\u001b[38;5;241m.\u001b[39mrun(cmds,check\u001b[38;5;241m=\u001b[39m\u001b[38;5;28;01mTrue\u001b[39;00m)\n",
      "File \u001b[0;32m/opt/anaconda3/lib/python3.12/subprocess.py:571\u001b[0m, in \u001b[0;36mrun\u001b[0;34m(input, capture_output, timeout, check, *popenargs, **kwargs)\u001b[0m\n\u001b[1;32m    569\u001b[0m     retcode \u001b[38;5;241m=\u001b[39m process\u001b[38;5;241m.\u001b[39mpoll()\n\u001b[1;32m    570\u001b[0m     \u001b[38;5;28;01mif\u001b[39;00m check \u001b[38;5;129;01mand\u001b[39;00m retcode:\n\u001b[0;32m--> 571\u001b[0m         \u001b[38;5;28;01mraise\u001b[39;00m CalledProcessError(retcode, process\u001b[38;5;241m.\u001b[39margs,\n\u001b[1;32m    572\u001b[0m                                  output\u001b[38;5;241m=\u001b[39mstdout, stderr\u001b[38;5;241m=\u001b[39mstderr)\n\u001b[1;32m    573\u001b[0m \u001b[38;5;28;01mreturn\u001b[39;00m CompletedProcess(process\u001b[38;5;241m.\u001b[39margs, retcode, stdout, stderr)\n",
      "\u001b[0;31mCalledProcessError\u001b[0m: Command '['sage', '/var/folders/g9/mx1ss3_94w3cylvbn32x2dqxx6lm77/T/tmpz4mhe11d/wrapper.sage', '/Users/kgteller/Documents/GitHub/MATH_155_Checkit/outcomes/SLO/SLO5/generator.sage', '/Users/kgteller/Documents/GitHub/MATH_155_Checkit/assets/SLO5/generated/seeds.json', 'build']' returned non-zero exit status 1."
     ]
    },
    {
     "ename": "CalledProcessError",
     "evalue": "Command '['sage', '/var/folders/g9/mx1ss3_94w3cylvbn32x2dqxx6lm77/T/tmp4cir05ic/wrapper.sage', '/Users/kgteller/Documents/GitHub/MATH_155_Checkit/outcomes/SLO/SLO5/generator.sage', '/Users/kgteller/Documents/GitHub/MATH_155_Checkit/assets/SLO5/generated/seeds.json', 'build']' returned non-zero exit status 1.",
     "output_type": "error",
     "traceback": [
      "\u001b[0;31m---------------------------------------------------------------------------\u001b[0m",
      "\u001b[0;31mCalledProcessError\u001b[0m                        Traceback (most recent call last)",
      "File \u001b[0;32m/opt/anaconda3/lib/python3.12/site-packages/checkit/dashboard.py:96\u001b[0m, in \u001b[0;36moutcome_submenu.<locals>.build\u001b[0;34m(*args)\u001b[0m\n\u001b[1;32m     94\u001b[0m     display(Markdown(\u001b[38;5;124m\"\u001b[39m\u001b[38;5;124mGenerating 1,000 seeds...\u001b[39m\u001b[38;5;124m\"\u001b[39m))\n\u001b[1;32m     95\u001b[0m \u001b[38;5;28;01mwith\u001b[39;00m output:\n\u001b[0;32m---> 96\u001b[0m     o\u001b[38;5;241m.\u001b[39mgenerate_exercises(regenerate\u001b[38;5;241m=\u001b[39m\u001b[38;5;28;01mTrue\u001b[39;00m)\n\u001b[1;32m     97\u001b[0m reset(only_generated\u001b[38;5;241m=\u001b[39m\u001b[38;5;28;01mTrue\u001b[39;00m)\n\u001b[1;32m     98\u001b[0m \u001b[38;5;28;01mwith\u001b[39;00m output:\n",
      "File \u001b[0;32m/opt/anaconda3/lib/python3.12/site-packages/checkit/outcome.py:106\u001b[0m, in \u001b[0;36mOutcome.generate_exercises\u001b[0;34m(self, regenerate, images)\u001b[0m\n\u001b[1;32m    104\u001b[0m     \u001b[38;5;28;01mexcept\u001b[39;00m \u001b[38;5;167;01mRuntimeError\u001b[39;00m:\n\u001b[1;32m    105\u001b[0m         \u001b[38;5;28;01mpass\u001b[39;00m \u001b[38;5;66;03m# generation is necessary\u001b[39;00m\n\u001b[0;32m--> 106\u001b[0m sage(\u001b[38;5;28mself\u001b[39m,\u001b[38;5;28mself\u001b[39m\u001b[38;5;241m.\u001b[39mseeds_json_path(),preview\u001b[38;5;241m=\u001b[39m\u001b[38;5;28;01mFalse\u001b[39;00m,images\u001b[38;5;241m=\u001b[39mimages)\n\u001b[1;32m    107\u001b[0m \u001b[38;5;28mself\u001b[39m\u001b[38;5;241m.\u001b[39mload_exercises(reload\u001b[38;5;241m=\u001b[39m\u001b[38;5;28;01mTrue\u001b[39;00m)\n",
      "File \u001b[0;32m/opt/anaconda3/lib/python3.12/site-packages/checkit/wrapper/__init__.py:28\u001b[0m, in \u001b[0;36msage\u001b[0;34m(outcome, output_path, preview, images)\u001b[0m\n\u001b[1;32m     26\u001b[0m \u001b[38;5;28;01mif\u001b[39;00m images:\n\u001b[1;32m     27\u001b[0m     cmds \u001b[38;5;241m+\u001b[39m\u001b[38;5;241m=\u001b[39m [\u001b[38;5;124m\"\u001b[39m\u001b[38;5;124mimages\u001b[39m\u001b[38;5;124m\"\u001b[39m]\n\u001b[0;32m---> 28\u001b[0m subprocess\u001b[38;5;241m.\u001b[39mrun(cmds,check\u001b[38;5;241m=\u001b[39m\u001b[38;5;28;01mTrue\u001b[39;00m)\n",
      "File \u001b[0;32m/opt/anaconda3/lib/python3.12/subprocess.py:571\u001b[0m, in \u001b[0;36mrun\u001b[0;34m(input, capture_output, timeout, check, *popenargs, **kwargs)\u001b[0m\n\u001b[1;32m    569\u001b[0m     retcode \u001b[38;5;241m=\u001b[39m process\u001b[38;5;241m.\u001b[39mpoll()\n\u001b[1;32m    570\u001b[0m     \u001b[38;5;28;01mif\u001b[39;00m check \u001b[38;5;129;01mand\u001b[39;00m retcode:\n\u001b[0;32m--> 571\u001b[0m         \u001b[38;5;28;01mraise\u001b[39;00m CalledProcessError(retcode, process\u001b[38;5;241m.\u001b[39margs,\n\u001b[1;32m    572\u001b[0m                                  output\u001b[38;5;241m=\u001b[39mstdout, stderr\u001b[38;5;241m=\u001b[39mstderr)\n\u001b[1;32m    573\u001b[0m \u001b[38;5;28;01mreturn\u001b[39;00m CompletedProcess(process\u001b[38;5;241m.\u001b[39margs, retcode, stdout, stderr)\n",
      "\u001b[0;31mCalledProcessError\u001b[0m: Command '['sage', '/var/folders/g9/mx1ss3_94w3cylvbn32x2dqxx6lm77/T/tmp4cir05ic/wrapper.sage', '/Users/kgteller/Documents/GitHub/MATH_155_Checkit/outcomes/SLO/SLO5/generator.sage', '/Users/kgteller/Documents/GitHub/MATH_155_Checkit/assets/SLO5/generated/seeds.json', 'build']' returned non-zero exit status 1."
     ]
    },
    {
     "ename": "CalledProcessError",
     "evalue": "Command '['sage', '/var/folders/g9/mx1ss3_94w3cylvbn32x2dqxx6lm77/T/tmpqahif2hm/wrapper.sage', '/Users/kgteller/Documents/GitHub/MATH_155_Checkit/outcomes/SLO/SLO5/generator.sage', '/Users/kgteller/Documents/GitHub/MATH_155_Checkit/assets/SLO5/generated/seeds.json', 'build']' returned non-zero exit status 1.",
     "output_type": "error",
     "traceback": [
      "\u001b[0;31m---------------------------------------------------------------------------\u001b[0m",
      "\u001b[0;31mCalledProcessError\u001b[0m                        Traceback (most recent call last)",
      "File \u001b[0;32m/opt/anaconda3/lib/python3.12/site-packages/checkit/dashboard.py:96\u001b[0m, in \u001b[0;36moutcome_submenu.<locals>.build\u001b[0;34m(*args)\u001b[0m\n\u001b[1;32m     94\u001b[0m     display(Markdown(\u001b[38;5;124m\"\u001b[39m\u001b[38;5;124mGenerating 1,000 seeds...\u001b[39m\u001b[38;5;124m\"\u001b[39m))\n\u001b[1;32m     95\u001b[0m \u001b[38;5;28;01mwith\u001b[39;00m output:\n\u001b[0;32m---> 96\u001b[0m     o\u001b[38;5;241m.\u001b[39mgenerate_exercises(regenerate\u001b[38;5;241m=\u001b[39m\u001b[38;5;28;01mTrue\u001b[39;00m)\n\u001b[1;32m     97\u001b[0m reset(only_generated\u001b[38;5;241m=\u001b[39m\u001b[38;5;28;01mTrue\u001b[39;00m)\n\u001b[1;32m     98\u001b[0m \u001b[38;5;28;01mwith\u001b[39;00m output:\n",
      "File \u001b[0;32m/opt/anaconda3/lib/python3.12/site-packages/checkit/outcome.py:106\u001b[0m, in \u001b[0;36mOutcome.generate_exercises\u001b[0;34m(self, regenerate, images)\u001b[0m\n\u001b[1;32m    104\u001b[0m     \u001b[38;5;28;01mexcept\u001b[39;00m \u001b[38;5;167;01mRuntimeError\u001b[39;00m:\n\u001b[1;32m    105\u001b[0m         \u001b[38;5;28;01mpass\u001b[39;00m \u001b[38;5;66;03m# generation is necessary\u001b[39;00m\n\u001b[0;32m--> 106\u001b[0m sage(\u001b[38;5;28mself\u001b[39m,\u001b[38;5;28mself\u001b[39m\u001b[38;5;241m.\u001b[39mseeds_json_path(),preview\u001b[38;5;241m=\u001b[39m\u001b[38;5;28;01mFalse\u001b[39;00m,images\u001b[38;5;241m=\u001b[39mimages)\n\u001b[1;32m    107\u001b[0m \u001b[38;5;28mself\u001b[39m\u001b[38;5;241m.\u001b[39mload_exercises(reload\u001b[38;5;241m=\u001b[39m\u001b[38;5;28;01mTrue\u001b[39;00m)\n",
      "File \u001b[0;32m/opt/anaconda3/lib/python3.12/site-packages/checkit/wrapper/__init__.py:28\u001b[0m, in \u001b[0;36msage\u001b[0;34m(outcome, output_path, preview, images)\u001b[0m\n\u001b[1;32m     26\u001b[0m \u001b[38;5;28;01mif\u001b[39;00m images:\n\u001b[1;32m     27\u001b[0m     cmds \u001b[38;5;241m+\u001b[39m\u001b[38;5;241m=\u001b[39m [\u001b[38;5;124m\"\u001b[39m\u001b[38;5;124mimages\u001b[39m\u001b[38;5;124m\"\u001b[39m]\n\u001b[0;32m---> 28\u001b[0m subprocess\u001b[38;5;241m.\u001b[39mrun(cmds,check\u001b[38;5;241m=\u001b[39m\u001b[38;5;28;01mTrue\u001b[39;00m)\n",
      "File \u001b[0;32m/opt/anaconda3/lib/python3.12/subprocess.py:571\u001b[0m, in \u001b[0;36mrun\u001b[0;34m(input, capture_output, timeout, check, *popenargs, **kwargs)\u001b[0m\n\u001b[1;32m    569\u001b[0m     retcode \u001b[38;5;241m=\u001b[39m process\u001b[38;5;241m.\u001b[39mpoll()\n\u001b[1;32m    570\u001b[0m     \u001b[38;5;28;01mif\u001b[39;00m check \u001b[38;5;129;01mand\u001b[39;00m retcode:\n\u001b[0;32m--> 571\u001b[0m         \u001b[38;5;28;01mraise\u001b[39;00m CalledProcessError(retcode, process\u001b[38;5;241m.\u001b[39margs,\n\u001b[1;32m    572\u001b[0m                                  output\u001b[38;5;241m=\u001b[39mstdout, stderr\u001b[38;5;241m=\u001b[39mstderr)\n\u001b[1;32m    573\u001b[0m \u001b[38;5;28;01mreturn\u001b[39;00m CompletedProcess(process\u001b[38;5;241m.\u001b[39margs, retcode, stdout, stderr)\n",
      "\u001b[0;31mCalledProcessError\u001b[0m: Command '['sage', '/var/folders/g9/mx1ss3_94w3cylvbn32x2dqxx6lm77/T/tmpqahif2hm/wrapper.sage', '/Users/kgteller/Documents/GitHub/MATH_155_Checkit/outcomes/SLO/SLO5/generator.sage', '/Users/kgteller/Documents/GitHub/MATH_155_Checkit/assets/SLO5/generated/seeds.json', 'build']' returned non-zero exit status 1."
     ]
    },
    {
     "ename": "CalledProcessError",
     "evalue": "Command '['sage', '/var/folders/g9/mx1ss3_94w3cylvbn32x2dqxx6lm77/T/tmpx1st1jpl/wrapper.sage', '/Users/kgteller/Documents/GitHub/MATH_155_Checkit/outcomes/SLO/SLO5/generator.sage', '/Users/kgteller/Documents/GitHub/MATH_155_Checkit/assets/SLO5/generated/seeds.json', 'build']' returned non-zero exit status 1.",
     "output_type": "error",
     "traceback": [
      "\u001b[0;31m---------------------------------------------------------------------------\u001b[0m",
      "\u001b[0;31mCalledProcessError\u001b[0m                        Traceback (most recent call last)",
      "File \u001b[0;32m/opt/anaconda3/lib/python3.12/site-packages/checkit/dashboard.py:96\u001b[0m, in \u001b[0;36moutcome_submenu.<locals>.build\u001b[0;34m(*args)\u001b[0m\n\u001b[1;32m     94\u001b[0m     display(Markdown(\u001b[38;5;124m\"\u001b[39m\u001b[38;5;124mGenerating 1,000 seeds...\u001b[39m\u001b[38;5;124m\"\u001b[39m))\n\u001b[1;32m     95\u001b[0m \u001b[38;5;28;01mwith\u001b[39;00m output:\n\u001b[0;32m---> 96\u001b[0m     o\u001b[38;5;241m.\u001b[39mgenerate_exercises(regenerate\u001b[38;5;241m=\u001b[39m\u001b[38;5;28;01mTrue\u001b[39;00m)\n\u001b[1;32m     97\u001b[0m reset(only_generated\u001b[38;5;241m=\u001b[39m\u001b[38;5;28;01mTrue\u001b[39;00m)\n\u001b[1;32m     98\u001b[0m \u001b[38;5;28;01mwith\u001b[39;00m output:\n",
      "File \u001b[0;32m/opt/anaconda3/lib/python3.12/site-packages/checkit/outcome.py:106\u001b[0m, in \u001b[0;36mOutcome.generate_exercises\u001b[0;34m(self, regenerate, images)\u001b[0m\n\u001b[1;32m    104\u001b[0m     \u001b[38;5;28;01mexcept\u001b[39;00m \u001b[38;5;167;01mRuntimeError\u001b[39;00m:\n\u001b[1;32m    105\u001b[0m         \u001b[38;5;28;01mpass\u001b[39;00m \u001b[38;5;66;03m# generation is necessary\u001b[39;00m\n\u001b[0;32m--> 106\u001b[0m sage(\u001b[38;5;28mself\u001b[39m,\u001b[38;5;28mself\u001b[39m\u001b[38;5;241m.\u001b[39mseeds_json_path(),preview\u001b[38;5;241m=\u001b[39m\u001b[38;5;28;01mFalse\u001b[39;00m,images\u001b[38;5;241m=\u001b[39mimages)\n\u001b[1;32m    107\u001b[0m \u001b[38;5;28mself\u001b[39m\u001b[38;5;241m.\u001b[39mload_exercises(reload\u001b[38;5;241m=\u001b[39m\u001b[38;5;28;01mTrue\u001b[39;00m)\n",
      "File \u001b[0;32m/opt/anaconda3/lib/python3.12/site-packages/checkit/wrapper/__init__.py:28\u001b[0m, in \u001b[0;36msage\u001b[0;34m(outcome, output_path, preview, images)\u001b[0m\n\u001b[1;32m     26\u001b[0m \u001b[38;5;28;01mif\u001b[39;00m images:\n\u001b[1;32m     27\u001b[0m     cmds \u001b[38;5;241m+\u001b[39m\u001b[38;5;241m=\u001b[39m [\u001b[38;5;124m\"\u001b[39m\u001b[38;5;124mimages\u001b[39m\u001b[38;5;124m\"\u001b[39m]\n\u001b[0;32m---> 28\u001b[0m subprocess\u001b[38;5;241m.\u001b[39mrun(cmds,check\u001b[38;5;241m=\u001b[39m\u001b[38;5;28;01mTrue\u001b[39;00m)\n",
      "File \u001b[0;32m/opt/anaconda3/lib/python3.12/subprocess.py:571\u001b[0m, in \u001b[0;36mrun\u001b[0;34m(input, capture_output, timeout, check, *popenargs, **kwargs)\u001b[0m\n\u001b[1;32m    569\u001b[0m     retcode \u001b[38;5;241m=\u001b[39m process\u001b[38;5;241m.\u001b[39mpoll()\n\u001b[1;32m    570\u001b[0m     \u001b[38;5;28;01mif\u001b[39;00m check \u001b[38;5;129;01mand\u001b[39;00m retcode:\n\u001b[0;32m--> 571\u001b[0m         \u001b[38;5;28;01mraise\u001b[39;00m CalledProcessError(retcode, process\u001b[38;5;241m.\u001b[39margs,\n\u001b[1;32m    572\u001b[0m                                  output\u001b[38;5;241m=\u001b[39mstdout, stderr\u001b[38;5;241m=\u001b[39mstderr)\n\u001b[1;32m    573\u001b[0m \u001b[38;5;28;01mreturn\u001b[39;00m CompletedProcess(process\u001b[38;5;241m.\u001b[39margs, retcode, stdout, stderr)\n",
      "\u001b[0;31mCalledProcessError\u001b[0m: Command '['sage', '/var/folders/g9/mx1ss3_94w3cylvbn32x2dqxx6lm77/T/tmpx1st1jpl/wrapper.sage', '/Users/kgteller/Documents/GitHub/MATH_155_Checkit/outcomes/SLO/SLO5/generator.sage', '/Users/kgteller/Documents/GitHub/MATH_155_Checkit/assets/SLO5/generated/seeds.json', 'build']' returned non-zero exit status 1."
     ]
    },
    {
     "ename": "CalledProcessError",
     "evalue": "Command '['sage', '/var/folders/g9/mx1ss3_94w3cylvbn32x2dqxx6lm77/T/tmp4yj0g0go/wrapper.sage', '/Users/kgteller/Documents/GitHub/MATH_155_Checkit/outcomes/SLO/SLO5/generator.sage', '/Users/kgteller/Documents/GitHub/MATH_155_Checkit/assets/SLO5/generated/seeds.json', 'build']' returned non-zero exit status 1.",
     "output_type": "error",
     "traceback": [
      "\u001b[0;31m---------------------------------------------------------------------------\u001b[0m",
      "\u001b[0;31mCalledProcessError\u001b[0m                        Traceback (most recent call last)",
      "File \u001b[0;32m/opt/anaconda3/lib/python3.12/site-packages/checkit/dashboard.py:96\u001b[0m, in \u001b[0;36moutcome_submenu.<locals>.build\u001b[0;34m(*args)\u001b[0m\n\u001b[1;32m     94\u001b[0m     display(Markdown(\u001b[38;5;124m\"\u001b[39m\u001b[38;5;124mGenerating 1,000 seeds...\u001b[39m\u001b[38;5;124m\"\u001b[39m))\n\u001b[1;32m     95\u001b[0m \u001b[38;5;28;01mwith\u001b[39;00m output:\n\u001b[0;32m---> 96\u001b[0m     o\u001b[38;5;241m.\u001b[39mgenerate_exercises(regenerate\u001b[38;5;241m=\u001b[39m\u001b[38;5;28;01mTrue\u001b[39;00m)\n\u001b[1;32m     97\u001b[0m reset(only_generated\u001b[38;5;241m=\u001b[39m\u001b[38;5;28;01mTrue\u001b[39;00m)\n\u001b[1;32m     98\u001b[0m \u001b[38;5;28;01mwith\u001b[39;00m output:\n",
      "File \u001b[0;32m/opt/anaconda3/lib/python3.12/site-packages/checkit/outcome.py:106\u001b[0m, in \u001b[0;36mOutcome.generate_exercises\u001b[0;34m(self, regenerate, images)\u001b[0m\n\u001b[1;32m    104\u001b[0m     \u001b[38;5;28;01mexcept\u001b[39;00m \u001b[38;5;167;01mRuntimeError\u001b[39;00m:\n\u001b[1;32m    105\u001b[0m         \u001b[38;5;28;01mpass\u001b[39;00m \u001b[38;5;66;03m# generation is necessary\u001b[39;00m\n\u001b[0;32m--> 106\u001b[0m sage(\u001b[38;5;28mself\u001b[39m,\u001b[38;5;28mself\u001b[39m\u001b[38;5;241m.\u001b[39mseeds_json_path(),preview\u001b[38;5;241m=\u001b[39m\u001b[38;5;28;01mFalse\u001b[39;00m,images\u001b[38;5;241m=\u001b[39mimages)\n\u001b[1;32m    107\u001b[0m \u001b[38;5;28mself\u001b[39m\u001b[38;5;241m.\u001b[39mload_exercises(reload\u001b[38;5;241m=\u001b[39m\u001b[38;5;28;01mTrue\u001b[39;00m)\n",
      "File \u001b[0;32m/opt/anaconda3/lib/python3.12/site-packages/checkit/wrapper/__init__.py:28\u001b[0m, in \u001b[0;36msage\u001b[0;34m(outcome, output_path, preview, images)\u001b[0m\n\u001b[1;32m     26\u001b[0m \u001b[38;5;28;01mif\u001b[39;00m images:\n\u001b[1;32m     27\u001b[0m     cmds \u001b[38;5;241m+\u001b[39m\u001b[38;5;241m=\u001b[39m [\u001b[38;5;124m\"\u001b[39m\u001b[38;5;124mimages\u001b[39m\u001b[38;5;124m\"\u001b[39m]\n\u001b[0;32m---> 28\u001b[0m subprocess\u001b[38;5;241m.\u001b[39mrun(cmds,check\u001b[38;5;241m=\u001b[39m\u001b[38;5;28;01mTrue\u001b[39;00m)\n",
      "File \u001b[0;32m/opt/anaconda3/lib/python3.12/subprocess.py:571\u001b[0m, in \u001b[0;36mrun\u001b[0;34m(input, capture_output, timeout, check, *popenargs, **kwargs)\u001b[0m\n\u001b[1;32m    569\u001b[0m     retcode \u001b[38;5;241m=\u001b[39m process\u001b[38;5;241m.\u001b[39mpoll()\n\u001b[1;32m    570\u001b[0m     \u001b[38;5;28;01mif\u001b[39;00m check \u001b[38;5;129;01mand\u001b[39;00m retcode:\n\u001b[0;32m--> 571\u001b[0m         \u001b[38;5;28;01mraise\u001b[39;00m CalledProcessError(retcode, process\u001b[38;5;241m.\u001b[39margs,\n\u001b[1;32m    572\u001b[0m                                  output\u001b[38;5;241m=\u001b[39mstdout, stderr\u001b[38;5;241m=\u001b[39mstderr)\n\u001b[1;32m    573\u001b[0m \u001b[38;5;28;01mreturn\u001b[39;00m CompletedProcess(process\u001b[38;5;241m.\u001b[39margs, retcode, stdout, stderr)\n",
      "\u001b[0;31mCalledProcessError\u001b[0m: Command '['sage', '/var/folders/g9/mx1ss3_94w3cylvbn32x2dqxx6lm77/T/tmp4yj0g0go/wrapper.sage', '/Users/kgteller/Documents/GitHub/MATH_155_Checkit/outcomes/SLO/SLO5/generator.sage', '/Users/kgteller/Documents/GitHub/MATH_155_Checkit/assets/SLO5/generated/seeds.json', 'build']' returned non-zero exit status 1."
     ]
    },
    {
     "ename": "CalledProcessError",
     "evalue": "Command '['sage', '/var/folders/g9/mx1ss3_94w3cylvbn32x2dqxx6lm77/T/tmptzmmat0g/wrapper.sage', '/Users/kgteller/Documents/GitHub/MATH_155_Checkit/outcomes/SLO/SLO5/generator.sage', '/Users/kgteller/Documents/GitHub/MATH_155_Checkit/assets/SLO5/generated/seeds.json', 'build']' returned non-zero exit status 1.",
     "output_type": "error",
     "traceback": [
      "\u001b[0;31m---------------------------------------------------------------------------\u001b[0m",
      "\u001b[0;31mCalledProcessError\u001b[0m                        Traceback (most recent call last)",
      "File \u001b[0;32m/opt/anaconda3/lib/python3.12/site-packages/checkit/dashboard.py:96\u001b[0m, in \u001b[0;36moutcome_submenu.<locals>.build\u001b[0;34m(*args)\u001b[0m\n\u001b[1;32m     94\u001b[0m     display(Markdown(\u001b[38;5;124m\"\u001b[39m\u001b[38;5;124mGenerating 1,000 seeds...\u001b[39m\u001b[38;5;124m\"\u001b[39m))\n\u001b[1;32m     95\u001b[0m \u001b[38;5;28;01mwith\u001b[39;00m output:\n\u001b[0;32m---> 96\u001b[0m     o\u001b[38;5;241m.\u001b[39mgenerate_exercises(regenerate\u001b[38;5;241m=\u001b[39m\u001b[38;5;28;01mTrue\u001b[39;00m)\n\u001b[1;32m     97\u001b[0m reset(only_generated\u001b[38;5;241m=\u001b[39m\u001b[38;5;28;01mTrue\u001b[39;00m)\n\u001b[1;32m     98\u001b[0m \u001b[38;5;28;01mwith\u001b[39;00m output:\n",
      "File \u001b[0;32m/opt/anaconda3/lib/python3.12/site-packages/checkit/outcome.py:106\u001b[0m, in \u001b[0;36mOutcome.generate_exercises\u001b[0;34m(self, regenerate, images)\u001b[0m\n\u001b[1;32m    104\u001b[0m     \u001b[38;5;28;01mexcept\u001b[39;00m \u001b[38;5;167;01mRuntimeError\u001b[39;00m:\n\u001b[1;32m    105\u001b[0m         \u001b[38;5;28;01mpass\u001b[39;00m \u001b[38;5;66;03m# generation is necessary\u001b[39;00m\n\u001b[0;32m--> 106\u001b[0m sage(\u001b[38;5;28mself\u001b[39m,\u001b[38;5;28mself\u001b[39m\u001b[38;5;241m.\u001b[39mseeds_json_path(),preview\u001b[38;5;241m=\u001b[39m\u001b[38;5;28;01mFalse\u001b[39;00m,images\u001b[38;5;241m=\u001b[39mimages)\n\u001b[1;32m    107\u001b[0m \u001b[38;5;28mself\u001b[39m\u001b[38;5;241m.\u001b[39mload_exercises(reload\u001b[38;5;241m=\u001b[39m\u001b[38;5;28;01mTrue\u001b[39;00m)\n",
      "File \u001b[0;32m/opt/anaconda3/lib/python3.12/site-packages/checkit/wrapper/__init__.py:28\u001b[0m, in \u001b[0;36msage\u001b[0;34m(outcome, output_path, preview, images)\u001b[0m\n\u001b[1;32m     26\u001b[0m \u001b[38;5;28;01mif\u001b[39;00m images:\n\u001b[1;32m     27\u001b[0m     cmds \u001b[38;5;241m+\u001b[39m\u001b[38;5;241m=\u001b[39m [\u001b[38;5;124m\"\u001b[39m\u001b[38;5;124mimages\u001b[39m\u001b[38;5;124m\"\u001b[39m]\n\u001b[0;32m---> 28\u001b[0m subprocess\u001b[38;5;241m.\u001b[39mrun(cmds,check\u001b[38;5;241m=\u001b[39m\u001b[38;5;28;01mTrue\u001b[39;00m)\n",
      "File \u001b[0;32m/opt/anaconda3/lib/python3.12/subprocess.py:571\u001b[0m, in \u001b[0;36mrun\u001b[0;34m(input, capture_output, timeout, check, *popenargs, **kwargs)\u001b[0m\n\u001b[1;32m    569\u001b[0m     retcode \u001b[38;5;241m=\u001b[39m process\u001b[38;5;241m.\u001b[39mpoll()\n\u001b[1;32m    570\u001b[0m     \u001b[38;5;28;01mif\u001b[39;00m check \u001b[38;5;129;01mand\u001b[39;00m retcode:\n\u001b[0;32m--> 571\u001b[0m         \u001b[38;5;28;01mraise\u001b[39;00m CalledProcessError(retcode, process\u001b[38;5;241m.\u001b[39margs,\n\u001b[1;32m    572\u001b[0m                                  output\u001b[38;5;241m=\u001b[39mstdout, stderr\u001b[38;5;241m=\u001b[39mstderr)\n\u001b[1;32m    573\u001b[0m \u001b[38;5;28;01mreturn\u001b[39;00m CompletedProcess(process\u001b[38;5;241m.\u001b[39margs, retcode, stdout, stderr)\n",
      "\u001b[0;31mCalledProcessError\u001b[0m: Command '['sage', '/var/folders/g9/mx1ss3_94w3cylvbn32x2dqxx6lm77/T/tmptzmmat0g/wrapper.sage', '/Users/kgteller/Documents/GitHub/MATH_155_Checkit/outcomes/SLO/SLO5/generator.sage', '/Users/kgteller/Documents/GitHub/MATH_155_Checkit/assets/SLO5/generated/seeds.json', 'build']' returned non-zero exit status 1."
     ]
    },
    {
     "ename": "CalledProcessError",
     "evalue": "Command '['sage', '/var/folders/g9/mx1ss3_94w3cylvbn32x2dqxx6lm77/T/tmp48w0ufad/wrapper.sage', '/Users/kgteller/Documents/GitHub/MATH_155_Checkit/outcomes/SLO/SLO5/generator.sage', '/Users/kgteller/Documents/GitHub/MATH_155_Checkit/assets/SLO5/generated/seeds.json', 'build']' returned non-zero exit status 1.",
     "output_type": "error",
     "traceback": [
      "\u001b[0;31m---------------------------------------------------------------------------\u001b[0m",
      "\u001b[0;31mCalledProcessError\u001b[0m                        Traceback (most recent call last)",
      "File \u001b[0;32m/opt/anaconda3/lib/python3.12/site-packages/checkit/dashboard.py:96\u001b[0m, in \u001b[0;36moutcome_submenu.<locals>.build\u001b[0;34m(*args)\u001b[0m\n\u001b[1;32m     94\u001b[0m     display(Markdown(\u001b[38;5;124m\"\u001b[39m\u001b[38;5;124mGenerating 1,000 seeds...\u001b[39m\u001b[38;5;124m\"\u001b[39m))\n\u001b[1;32m     95\u001b[0m \u001b[38;5;28;01mwith\u001b[39;00m output:\n\u001b[0;32m---> 96\u001b[0m     o\u001b[38;5;241m.\u001b[39mgenerate_exercises(regenerate\u001b[38;5;241m=\u001b[39m\u001b[38;5;28;01mTrue\u001b[39;00m)\n\u001b[1;32m     97\u001b[0m reset(only_generated\u001b[38;5;241m=\u001b[39m\u001b[38;5;28;01mTrue\u001b[39;00m)\n\u001b[1;32m     98\u001b[0m \u001b[38;5;28;01mwith\u001b[39;00m output:\n",
      "File \u001b[0;32m/opt/anaconda3/lib/python3.12/site-packages/checkit/outcome.py:106\u001b[0m, in \u001b[0;36mOutcome.generate_exercises\u001b[0;34m(self, regenerate, images)\u001b[0m\n\u001b[1;32m    104\u001b[0m     \u001b[38;5;28;01mexcept\u001b[39;00m \u001b[38;5;167;01mRuntimeError\u001b[39;00m:\n\u001b[1;32m    105\u001b[0m         \u001b[38;5;28;01mpass\u001b[39;00m \u001b[38;5;66;03m# generation is necessary\u001b[39;00m\n\u001b[0;32m--> 106\u001b[0m sage(\u001b[38;5;28mself\u001b[39m,\u001b[38;5;28mself\u001b[39m\u001b[38;5;241m.\u001b[39mseeds_json_path(),preview\u001b[38;5;241m=\u001b[39m\u001b[38;5;28;01mFalse\u001b[39;00m,images\u001b[38;5;241m=\u001b[39mimages)\n\u001b[1;32m    107\u001b[0m \u001b[38;5;28mself\u001b[39m\u001b[38;5;241m.\u001b[39mload_exercises(reload\u001b[38;5;241m=\u001b[39m\u001b[38;5;28;01mTrue\u001b[39;00m)\n",
      "File \u001b[0;32m/opt/anaconda3/lib/python3.12/site-packages/checkit/wrapper/__init__.py:28\u001b[0m, in \u001b[0;36msage\u001b[0;34m(outcome, output_path, preview, images)\u001b[0m\n\u001b[1;32m     26\u001b[0m \u001b[38;5;28;01mif\u001b[39;00m images:\n\u001b[1;32m     27\u001b[0m     cmds \u001b[38;5;241m+\u001b[39m\u001b[38;5;241m=\u001b[39m [\u001b[38;5;124m\"\u001b[39m\u001b[38;5;124mimages\u001b[39m\u001b[38;5;124m\"\u001b[39m]\n\u001b[0;32m---> 28\u001b[0m subprocess\u001b[38;5;241m.\u001b[39mrun(cmds,check\u001b[38;5;241m=\u001b[39m\u001b[38;5;28;01mTrue\u001b[39;00m)\n",
      "File \u001b[0;32m/opt/anaconda3/lib/python3.12/subprocess.py:571\u001b[0m, in \u001b[0;36mrun\u001b[0;34m(input, capture_output, timeout, check, *popenargs, **kwargs)\u001b[0m\n\u001b[1;32m    569\u001b[0m     retcode \u001b[38;5;241m=\u001b[39m process\u001b[38;5;241m.\u001b[39mpoll()\n\u001b[1;32m    570\u001b[0m     \u001b[38;5;28;01mif\u001b[39;00m check \u001b[38;5;129;01mand\u001b[39;00m retcode:\n\u001b[0;32m--> 571\u001b[0m         \u001b[38;5;28;01mraise\u001b[39;00m CalledProcessError(retcode, process\u001b[38;5;241m.\u001b[39margs,\n\u001b[1;32m    572\u001b[0m                                  output\u001b[38;5;241m=\u001b[39mstdout, stderr\u001b[38;5;241m=\u001b[39mstderr)\n\u001b[1;32m    573\u001b[0m \u001b[38;5;28;01mreturn\u001b[39;00m CompletedProcess(process\u001b[38;5;241m.\u001b[39margs, retcode, stdout, stderr)\n",
      "\u001b[0;31mCalledProcessError\u001b[0m: Command '['sage', '/var/folders/g9/mx1ss3_94w3cylvbn32x2dqxx6lm77/T/tmp48w0ufad/wrapper.sage', '/Users/kgteller/Documents/GitHub/MATH_155_Checkit/outcomes/SLO/SLO5/generator.sage', '/Users/kgteller/Documents/GitHub/MATH_155_Checkit/assets/SLO5/generated/seeds.json', 'build']' returned non-zero exit status 1."
     ]
    },
    {
     "ename": "CalledProcessError",
     "evalue": "Command '['sage', '/var/folders/g9/mx1ss3_94w3cylvbn32x2dqxx6lm77/T/tmp52rcvros/wrapper.sage', '/Users/kgteller/Documents/GitHub/MATH_155_Checkit/outcomes/SLO/SLO5/generator.sage', '/Users/kgteller/Documents/GitHub/MATH_155_Checkit/assets/SLO5/generated/seeds.json', 'build']' returned non-zero exit status 1.",
     "output_type": "error",
     "traceback": [
      "\u001b[0;31m---------------------------------------------------------------------------\u001b[0m",
      "\u001b[0;31mCalledProcessError\u001b[0m                        Traceback (most recent call last)",
      "File \u001b[0;32m/opt/anaconda3/lib/python3.12/site-packages/checkit/dashboard.py:96\u001b[0m, in \u001b[0;36moutcome_submenu.<locals>.build\u001b[0;34m(*args)\u001b[0m\n\u001b[1;32m     94\u001b[0m     display(Markdown(\u001b[38;5;124m\"\u001b[39m\u001b[38;5;124mGenerating 1,000 seeds...\u001b[39m\u001b[38;5;124m\"\u001b[39m))\n\u001b[1;32m     95\u001b[0m \u001b[38;5;28;01mwith\u001b[39;00m output:\n\u001b[0;32m---> 96\u001b[0m     o\u001b[38;5;241m.\u001b[39mgenerate_exercises(regenerate\u001b[38;5;241m=\u001b[39m\u001b[38;5;28;01mTrue\u001b[39;00m)\n\u001b[1;32m     97\u001b[0m reset(only_generated\u001b[38;5;241m=\u001b[39m\u001b[38;5;28;01mTrue\u001b[39;00m)\n\u001b[1;32m     98\u001b[0m \u001b[38;5;28;01mwith\u001b[39;00m output:\n",
      "File \u001b[0;32m/opt/anaconda3/lib/python3.12/site-packages/checkit/outcome.py:106\u001b[0m, in \u001b[0;36mOutcome.generate_exercises\u001b[0;34m(self, regenerate, images)\u001b[0m\n\u001b[1;32m    104\u001b[0m     \u001b[38;5;28;01mexcept\u001b[39;00m \u001b[38;5;167;01mRuntimeError\u001b[39;00m:\n\u001b[1;32m    105\u001b[0m         \u001b[38;5;28;01mpass\u001b[39;00m \u001b[38;5;66;03m# generation is necessary\u001b[39;00m\n\u001b[0;32m--> 106\u001b[0m sage(\u001b[38;5;28mself\u001b[39m,\u001b[38;5;28mself\u001b[39m\u001b[38;5;241m.\u001b[39mseeds_json_path(),preview\u001b[38;5;241m=\u001b[39m\u001b[38;5;28;01mFalse\u001b[39;00m,images\u001b[38;5;241m=\u001b[39mimages)\n\u001b[1;32m    107\u001b[0m \u001b[38;5;28mself\u001b[39m\u001b[38;5;241m.\u001b[39mload_exercises(reload\u001b[38;5;241m=\u001b[39m\u001b[38;5;28;01mTrue\u001b[39;00m)\n",
      "File \u001b[0;32m/opt/anaconda3/lib/python3.12/site-packages/checkit/wrapper/__init__.py:28\u001b[0m, in \u001b[0;36msage\u001b[0;34m(outcome, output_path, preview, images)\u001b[0m\n\u001b[1;32m     26\u001b[0m \u001b[38;5;28;01mif\u001b[39;00m images:\n\u001b[1;32m     27\u001b[0m     cmds \u001b[38;5;241m+\u001b[39m\u001b[38;5;241m=\u001b[39m [\u001b[38;5;124m\"\u001b[39m\u001b[38;5;124mimages\u001b[39m\u001b[38;5;124m\"\u001b[39m]\n\u001b[0;32m---> 28\u001b[0m subprocess\u001b[38;5;241m.\u001b[39mrun(cmds,check\u001b[38;5;241m=\u001b[39m\u001b[38;5;28;01mTrue\u001b[39;00m)\n",
      "File \u001b[0;32m/opt/anaconda3/lib/python3.12/subprocess.py:571\u001b[0m, in \u001b[0;36mrun\u001b[0;34m(input, capture_output, timeout, check, *popenargs, **kwargs)\u001b[0m\n\u001b[1;32m    569\u001b[0m     retcode \u001b[38;5;241m=\u001b[39m process\u001b[38;5;241m.\u001b[39mpoll()\n\u001b[1;32m    570\u001b[0m     \u001b[38;5;28;01mif\u001b[39;00m check \u001b[38;5;129;01mand\u001b[39;00m retcode:\n\u001b[0;32m--> 571\u001b[0m         \u001b[38;5;28;01mraise\u001b[39;00m CalledProcessError(retcode, process\u001b[38;5;241m.\u001b[39margs,\n\u001b[1;32m    572\u001b[0m                                  output\u001b[38;5;241m=\u001b[39mstdout, stderr\u001b[38;5;241m=\u001b[39mstderr)\n\u001b[1;32m    573\u001b[0m \u001b[38;5;28;01mreturn\u001b[39;00m CompletedProcess(process\u001b[38;5;241m.\u001b[39margs, retcode, stdout, stderr)\n",
      "\u001b[0;31mCalledProcessError\u001b[0m: Command '['sage', '/var/folders/g9/mx1ss3_94w3cylvbn32x2dqxx6lm77/T/tmp52rcvros/wrapper.sage', '/Users/kgteller/Documents/GitHub/MATH_155_Checkit/outcomes/SLO/SLO5/generator.sage', '/Users/kgteller/Documents/GitHub/MATH_155_Checkit/assets/SLO5/generated/seeds.json', 'build']' returned non-zero exit status 1."
     ]
    },
    {
     "ename": "CalledProcessError",
     "evalue": "Command '['sage', '/var/folders/g9/mx1ss3_94w3cylvbn32x2dqxx6lm77/T/tmpqfh2zt1d/wrapper.sage', '/Users/kgteller/Documents/GitHub/MATH_155_Checkit/outcomes/SLO/SLO5/generator.sage', '/Users/kgteller/Documents/GitHub/MATH_155_Checkit/assets/SLO5/generated/seeds.json', 'build']' returned non-zero exit status 1.",
     "output_type": "error",
     "traceback": [
      "\u001b[0;31m---------------------------------------------------------------------------\u001b[0m",
      "\u001b[0;31mCalledProcessError\u001b[0m                        Traceback (most recent call last)",
      "File \u001b[0;32m/opt/anaconda3/lib/python3.12/site-packages/checkit/dashboard.py:96\u001b[0m, in \u001b[0;36moutcome_submenu.<locals>.build\u001b[0;34m(*args)\u001b[0m\n\u001b[1;32m     94\u001b[0m     display(Markdown(\u001b[38;5;124m\"\u001b[39m\u001b[38;5;124mGenerating 1,000 seeds...\u001b[39m\u001b[38;5;124m\"\u001b[39m))\n\u001b[1;32m     95\u001b[0m \u001b[38;5;28;01mwith\u001b[39;00m output:\n\u001b[0;32m---> 96\u001b[0m     o\u001b[38;5;241m.\u001b[39mgenerate_exercises(regenerate\u001b[38;5;241m=\u001b[39m\u001b[38;5;28;01mTrue\u001b[39;00m)\n\u001b[1;32m     97\u001b[0m reset(only_generated\u001b[38;5;241m=\u001b[39m\u001b[38;5;28;01mTrue\u001b[39;00m)\n\u001b[1;32m     98\u001b[0m \u001b[38;5;28;01mwith\u001b[39;00m output:\n",
      "File \u001b[0;32m/opt/anaconda3/lib/python3.12/site-packages/checkit/outcome.py:106\u001b[0m, in \u001b[0;36mOutcome.generate_exercises\u001b[0;34m(self, regenerate, images)\u001b[0m\n\u001b[1;32m    104\u001b[0m     \u001b[38;5;28;01mexcept\u001b[39;00m \u001b[38;5;167;01mRuntimeError\u001b[39;00m:\n\u001b[1;32m    105\u001b[0m         \u001b[38;5;28;01mpass\u001b[39;00m \u001b[38;5;66;03m# generation is necessary\u001b[39;00m\n\u001b[0;32m--> 106\u001b[0m sage(\u001b[38;5;28mself\u001b[39m,\u001b[38;5;28mself\u001b[39m\u001b[38;5;241m.\u001b[39mseeds_json_path(),preview\u001b[38;5;241m=\u001b[39m\u001b[38;5;28;01mFalse\u001b[39;00m,images\u001b[38;5;241m=\u001b[39mimages)\n\u001b[1;32m    107\u001b[0m \u001b[38;5;28mself\u001b[39m\u001b[38;5;241m.\u001b[39mload_exercises(reload\u001b[38;5;241m=\u001b[39m\u001b[38;5;28;01mTrue\u001b[39;00m)\n",
      "File \u001b[0;32m/opt/anaconda3/lib/python3.12/site-packages/checkit/wrapper/__init__.py:28\u001b[0m, in \u001b[0;36msage\u001b[0;34m(outcome, output_path, preview, images)\u001b[0m\n\u001b[1;32m     26\u001b[0m \u001b[38;5;28;01mif\u001b[39;00m images:\n\u001b[1;32m     27\u001b[0m     cmds \u001b[38;5;241m+\u001b[39m\u001b[38;5;241m=\u001b[39m [\u001b[38;5;124m\"\u001b[39m\u001b[38;5;124mimages\u001b[39m\u001b[38;5;124m\"\u001b[39m]\n\u001b[0;32m---> 28\u001b[0m subprocess\u001b[38;5;241m.\u001b[39mrun(cmds,check\u001b[38;5;241m=\u001b[39m\u001b[38;5;28;01mTrue\u001b[39;00m)\n",
      "File \u001b[0;32m/opt/anaconda3/lib/python3.12/subprocess.py:571\u001b[0m, in \u001b[0;36mrun\u001b[0;34m(input, capture_output, timeout, check, *popenargs, **kwargs)\u001b[0m\n\u001b[1;32m    569\u001b[0m     retcode \u001b[38;5;241m=\u001b[39m process\u001b[38;5;241m.\u001b[39mpoll()\n\u001b[1;32m    570\u001b[0m     \u001b[38;5;28;01mif\u001b[39;00m check \u001b[38;5;129;01mand\u001b[39;00m retcode:\n\u001b[0;32m--> 571\u001b[0m         \u001b[38;5;28;01mraise\u001b[39;00m CalledProcessError(retcode, process\u001b[38;5;241m.\u001b[39margs,\n\u001b[1;32m    572\u001b[0m                                  output\u001b[38;5;241m=\u001b[39mstdout, stderr\u001b[38;5;241m=\u001b[39mstderr)\n\u001b[1;32m    573\u001b[0m \u001b[38;5;28;01mreturn\u001b[39;00m CompletedProcess(process\u001b[38;5;241m.\u001b[39margs, retcode, stdout, stderr)\n",
      "\u001b[0;31mCalledProcessError\u001b[0m: Command '['sage', '/var/folders/g9/mx1ss3_94w3cylvbn32x2dqxx6lm77/T/tmpqfh2zt1d/wrapper.sage', '/Users/kgteller/Documents/GitHub/MATH_155_Checkit/outcomes/SLO/SLO5/generator.sage', '/Users/kgteller/Documents/GitHub/MATH_155_Checkit/assets/SLO5/generated/seeds.json', 'build']' returned non-zero exit status 1."
     ]
    },
    {
     "ename": "CalledProcessError",
     "evalue": "Command '['sage', '/var/folders/g9/mx1ss3_94w3cylvbn32x2dqxx6lm77/T/tmpaip5e8t1/wrapper.sage', '/Users/kgteller/Documents/GitHub/MATH_155_Checkit/outcomes/SLO/SLO5/generator.sage', '/Users/kgteller/Documents/GitHub/MATH_155_Checkit/assets/SLO5/generated/seeds.json', 'build']' returned non-zero exit status 1.",
     "output_type": "error",
     "traceback": [
      "\u001b[0;31m---------------------------------------------------------------------------\u001b[0m",
      "\u001b[0;31mCalledProcessError\u001b[0m                        Traceback (most recent call last)",
      "File \u001b[0;32m/opt/anaconda3/lib/python3.12/site-packages/checkit/dashboard.py:96\u001b[0m, in \u001b[0;36moutcome_submenu.<locals>.build\u001b[0;34m(*args)\u001b[0m\n\u001b[1;32m     94\u001b[0m     display(Markdown(\u001b[38;5;124m\"\u001b[39m\u001b[38;5;124mGenerating 1,000 seeds...\u001b[39m\u001b[38;5;124m\"\u001b[39m))\n\u001b[1;32m     95\u001b[0m \u001b[38;5;28;01mwith\u001b[39;00m output:\n\u001b[0;32m---> 96\u001b[0m     o\u001b[38;5;241m.\u001b[39mgenerate_exercises(regenerate\u001b[38;5;241m=\u001b[39m\u001b[38;5;28;01mTrue\u001b[39;00m)\n\u001b[1;32m     97\u001b[0m reset(only_generated\u001b[38;5;241m=\u001b[39m\u001b[38;5;28;01mTrue\u001b[39;00m)\n\u001b[1;32m     98\u001b[0m \u001b[38;5;28;01mwith\u001b[39;00m output:\n",
      "File \u001b[0;32m/opt/anaconda3/lib/python3.12/site-packages/checkit/outcome.py:106\u001b[0m, in \u001b[0;36mOutcome.generate_exercises\u001b[0;34m(self, regenerate, images)\u001b[0m\n\u001b[1;32m    104\u001b[0m     \u001b[38;5;28;01mexcept\u001b[39;00m \u001b[38;5;167;01mRuntimeError\u001b[39;00m:\n\u001b[1;32m    105\u001b[0m         \u001b[38;5;28;01mpass\u001b[39;00m \u001b[38;5;66;03m# generation is necessary\u001b[39;00m\n\u001b[0;32m--> 106\u001b[0m sage(\u001b[38;5;28mself\u001b[39m,\u001b[38;5;28mself\u001b[39m\u001b[38;5;241m.\u001b[39mseeds_json_path(),preview\u001b[38;5;241m=\u001b[39m\u001b[38;5;28;01mFalse\u001b[39;00m,images\u001b[38;5;241m=\u001b[39mimages)\n\u001b[1;32m    107\u001b[0m \u001b[38;5;28mself\u001b[39m\u001b[38;5;241m.\u001b[39mload_exercises(reload\u001b[38;5;241m=\u001b[39m\u001b[38;5;28;01mTrue\u001b[39;00m)\n",
      "File \u001b[0;32m/opt/anaconda3/lib/python3.12/site-packages/checkit/wrapper/__init__.py:28\u001b[0m, in \u001b[0;36msage\u001b[0;34m(outcome, output_path, preview, images)\u001b[0m\n\u001b[1;32m     26\u001b[0m \u001b[38;5;28;01mif\u001b[39;00m images:\n\u001b[1;32m     27\u001b[0m     cmds \u001b[38;5;241m+\u001b[39m\u001b[38;5;241m=\u001b[39m [\u001b[38;5;124m\"\u001b[39m\u001b[38;5;124mimages\u001b[39m\u001b[38;5;124m\"\u001b[39m]\n\u001b[0;32m---> 28\u001b[0m subprocess\u001b[38;5;241m.\u001b[39mrun(cmds,check\u001b[38;5;241m=\u001b[39m\u001b[38;5;28;01mTrue\u001b[39;00m)\n",
      "File \u001b[0;32m/opt/anaconda3/lib/python3.12/subprocess.py:571\u001b[0m, in \u001b[0;36mrun\u001b[0;34m(input, capture_output, timeout, check, *popenargs, **kwargs)\u001b[0m\n\u001b[1;32m    569\u001b[0m     retcode \u001b[38;5;241m=\u001b[39m process\u001b[38;5;241m.\u001b[39mpoll()\n\u001b[1;32m    570\u001b[0m     \u001b[38;5;28;01mif\u001b[39;00m check \u001b[38;5;129;01mand\u001b[39;00m retcode:\n\u001b[0;32m--> 571\u001b[0m         \u001b[38;5;28;01mraise\u001b[39;00m CalledProcessError(retcode, process\u001b[38;5;241m.\u001b[39margs,\n\u001b[1;32m    572\u001b[0m                                  output\u001b[38;5;241m=\u001b[39mstdout, stderr\u001b[38;5;241m=\u001b[39mstderr)\n\u001b[1;32m    573\u001b[0m \u001b[38;5;28;01mreturn\u001b[39;00m CompletedProcess(process\u001b[38;5;241m.\u001b[39margs, retcode, stdout, stderr)\n",
      "\u001b[0;31mCalledProcessError\u001b[0m: Command '['sage', '/var/folders/g9/mx1ss3_94w3cylvbn32x2dqxx6lm77/T/tmpaip5e8t1/wrapper.sage', '/Users/kgteller/Documents/GitHub/MATH_155_Checkit/outcomes/SLO/SLO5/generator.sage', '/Users/kgteller/Documents/GitHub/MATH_155_Checkit/assets/SLO5/generated/seeds.json', 'build']' returned non-zero exit status 1."
     ]
    }
   ],
   "source": [
    "from checkit import dashboard\n",
    "dashboard.run()"
   ]
  },
  {
   "cell_type": "code",
   "execution_count": null,
   "metadata": {},
   "outputs": [],
   "source": [
    "#!pip install --upgrade pip\n",
    "%pip install --upgrade checkit-dashboard\n",
    "\n"
   ]
  },
  {
   "cell_type": "code",
   "execution_count": null,
   "metadata": {},
   "outputs": [],
   "source": []
  },
  {
   "cell_type": "code",
   "execution_count": null,
   "metadata": {},
   "outputs": [],
   "source": []
  }
 ],
 "metadata": {
  "kernelspec": {
   "display_name": "base",
   "language": "python",
   "name": "python3"
  },
  "language_info": {
   "codemirror_mode": {
    "name": "ipython",
    "version": 3
   },
   "file_extension": ".py",
   "mimetype": "text/x-python",
   "name": "python",
   "nbconvert_exporter": "python",
   "pygments_lexer": "ipython3",
   "version": "3.12.7"
  }
 },
 "nbformat": 4,
 "nbformat_minor": 4
}
